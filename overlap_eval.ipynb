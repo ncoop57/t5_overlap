{
  "nbformat": 4,
  "nbformat_minor": 0,
  "metadata": {
    "colab": {
      "name": "scratch01_overlap_eval.ipynb",
      "provenance": [],
      "collapsed_sections": [],
      "mount_file_id": "1GIMWEhu_nzDpS7ZWovhKJeVJ2O4nL4xw",
      "authorship_tag": "ABX9TyNityJEDEc4OytJq9Ix07Bo",
      "include_colab_link": true
    },
    "kernelspec": {
      "name": "python3",
      "display_name": "Python 3"
    },
    "language_info": {
      "name": "python"
    }
  },
  "cells": [
    {
      "cell_type": "markdown",
      "metadata": {
        "id": "view-in-github",
        "colab_type": "text"
      },
      "source": [
        "<a href=\"https://colab.research.google.com/github/ncoop57/t5_overlap/blob/main/overlap_eval.ipynb\" target=\"_parent\"><img src=\"https://colab.research.google.com/assets/colab-badge.svg\" alt=\"Open In Colab\"/></a>"
      ]
    },
    {
      "cell_type": "code",
      "metadata": {
        "id": "bgnPhuhfz5Re",
        "colab": {
          "base_uri": "https://localhost:8080/"
        },
        "outputId": "1d43c841-e4df-4bf2-e62b-e3c5476ae58f"
      },
      "source": [
        "from google.colab import drive\n",
        "drive.mount('/gdrive')"
      ],
      "execution_count": 14,
      "outputs": [
        {
          "output_type": "stream",
          "text": [
            "Mounted at /gdrive\n"
          ],
          "name": "stdout"
        }
      ]
    },
    {
      "cell_type": "code",
      "metadata": {
        "id": "Y6WOOvtaz7Oe"
      },
      "source": [
        "%%bash\n",
        "# pip install sentencepiece gdown statsmodels # git+https://github.com/ncoop57/cute_deltas\n",
        "cp -r /gdrive/MyDrive/T5-Extension/datasets .\n",
        "cp -r /gdrive/MyDrive/T5-Extension/DataSnooping_Analysis_Data .\n",
        "# gdown https://drive.google.com/uc?id=1KBVkhFZ80i1PW80aZexFGvJjyEClelX1"
      ],
      "execution_count": 15,
      "outputs": []
    },
    {
      "cell_type": "code",
      "metadata": {
        "colab": {
          "base_uri": "https://localhost:8080/"
        },
        "id": "SI5ed5lB4omX",
        "outputId": "cc917902-f3f1-4bfb-a043-5567025be308"
      },
      "source": [
        "! zip -r datasets.zip datasets\n",
        "! zip -r DataSnooping_Analysis_Data.zip DataSnooping_Analysis_Data"
      ],
      "execution_count": 16,
      "outputs": [
        {
          "output_type": "stream",
          "text": [
            "  adding: datasets/ (stored 0%)\n",
            "  adding: datasets/tsv/ (stored 0%)\n",
            "  adding: datasets/tsv/pre-training/ (stored 0%)\n",
            "  adding: datasets/tsv/pre-training/pre-training.tsv (deflated 82%)\n",
            "  adding: datasets/tsv/fine-tuning/ (stored 0%)\n",
            "  adding: datasets/tsv/fine-tuning/CS/ (stored 0%)\n",
            "  adding: datasets/tsv/fine-tuning/CS/test.tsv (deflated 81%)\n",
            "  adding: datasets/tsv/fine-tuning/CS/eval.tsv (deflated 81%)\n",
            "  adding: datasets/tsv/fine-tuning/CS/training.tsv (deflated 81%)\n",
            "  adding: datasets/tsv/fine-tuning/AGabs/ (stored 0%)\n",
            "  adding: datasets/tsv/fine-tuning/AGabs/test.tsv (deflated 87%)\n",
            "  adding: datasets/tsv/fine-tuning/AGabs/eval.tsv (deflated 87%)\n",
            "  adding: datasets/tsv/fine-tuning/AGabs/training.tsv (deflated 90%)\n",
            "  adding: datasets/tsv/fine-tuning/AGraw/ (stored 0%)\n",
            "  adding: datasets/tsv/fine-tuning/AGraw/test.tsv (deflated 78%)\n",
            "  adding: datasets/tsv/fine-tuning/AGraw/eval.tsv (deflated 78%)\n",
            "  adding: datasets/tsv/fine-tuning/AGraw/training.tsv (deflated 78%)\n",
            "  adding: datasets/tsv/fine-tuning/BFmedium/ (stored 0%)\n",
            "  adding: datasets/tsv/fine-tuning/BFmedium/test.tsv (deflated 88%)\n",
            "  adding: datasets/tsv/fine-tuning/BFmedium/eval.tsv (deflated 88%)\n",
            "  adding: datasets/tsv/fine-tuning/BFmedium/training.tsv (deflated 88%)\n",
            "  adding: datasets/tsv/fine-tuning/MG/ (stored 0%)\n",
            "  adding: datasets/tsv/fine-tuning/MG/test.tsv (deflated 88%)\n",
            "  adding: datasets/tsv/fine-tuning/MG/eval.tsv (deflated 88%)\n",
            "  adding: datasets/tsv/fine-tuning/MG/training.tsv (deflated 88%)\n",
            "  adding: datasets/tsv/fine-tuning/BFsmall/ (stored 0%)\n",
            "  adding: datasets/tsv/fine-tuning/BFsmall/test.tsv (deflated 88%)\n",
            "  adding: datasets/tsv/fine-tuning/BFsmall/eval.tsv (deflated 88%)\n",
            "  adding: datasets/tsv/fine-tuning/BFsmall/training.tsv (deflated 88%)\n",
            "  adding: datasets/pickle/ (stored 0%)\n",
            "  adding: datasets/pickle/pre-training/ (stored 0%)\n",
            "  adding: datasets/pickle/pre-training/pretraining.pkl (deflated 81%)\n",
            "  adding: datasets/pickle/fine-tuning/ (stored 0%)\n",
            "  adding: datasets/pickle/fine-tuning/CS/ (stored 0%)\n",
            "  adding: datasets/pickle/fine-tuning/CS/eval.pkl (deflated 79%)\n",
            "  adding: datasets/pickle/fine-tuning/CS/train.pkl (deflated 79%)\n",
            "  adding: datasets/pickle/fine-tuning/CS/test.pkl (deflated 79%)\n",
            "  adding: datasets/pickle/fine-tuning/AGabs/ (stored 0%)\n",
            "  adding: datasets/pickle/fine-tuning/AGabs/eval.pkl (deflated 86%)\n",
            "  adding: datasets/pickle/fine-tuning/AGabs/train.pkl (deflated 89%)\n",
            "  adding: datasets/pickle/fine-tuning/AGabs/test.pkl (deflated 86%)\n",
            "  adding: datasets/pickle/fine-tuning/AGraw/ (stored 0%)\n",
            "  adding: datasets/pickle/fine-tuning/AGraw/eval.pkl (deflated 77%)\n",
            "  adding: datasets/pickle/fine-tuning/AGraw/train.pkl (deflated 77%)\n",
            "  adding: datasets/pickle/fine-tuning/AGraw/test.pkl (deflated 77%)\n",
            "  adding: datasets/pickle/fine-tuning/BFmedium/ (stored 0%)\n",
            "  adding: datasets/pickle/fine-tuning/BFmedium/eval.pkl (deflated 82%)\n",
            "  adding: datasets/pickle/fine-tuning/BFmedium/train.pkl (deflated 82%)\n",
            "  adding: datasets/pickle/fine-tuning/BFmedium/test.pkl (deflated 82%)\n",
            "  adding: datasets/pickle/fine-tuning/MG/ (stored 0%)\n",
            "  adding: datasets/pickle/fine-tuning/MG/eval.pkl (deflated 83%)\n",
            "  adding: datasets/pickle/fine-tuning/MG/train.pkl (deflated 83%)\n",
            "  adding: datasets/pickle/fine-tuning/MG/test.pkl (deflated 83%)\n",
            "  adding: datasets/pickle/fine-tuning/BFsmall/ (stored 0%)\n",
            "  adding: datasets/pickle/fine-tuning/BFsmall/eval.pkl (deflated 83%)\n",
            "  adding: datasets/pickle/fine-tuning/BFsmall/train.pkl (deflated 83%)\n",
            "  adding: datasets/pickle/fine-tuning/BFsmall/test.pkl (deflated 83%)\n",
            "  adding: DataSnooping_Analysis_Data/ (stored 0%)\n",
            "  adding: DataSnooping_Analysis_Data/agab_results.json (deflated 90%)\n",
            "  adding: DataSnooping_Analysis_Data/CodeSummarization.csv (deflated 80%)\n",
            "  adding: DataSnooping_Analysis_Data/bfmed_results.json (deflated 83%)\n",
            "  adding: DataSnooping_Analysis_Data/AGraw.csv (deflated 80%)\n",
            "  adding: DataSnooping_Analysis_Data/Mutants.csv (deflated 88%)\n",
            "  adding: DataSnooping_Analysis_Data/agraw_results.json (deflated 88%)\n",
            "  adding: DataSnooping_Analysis_Data/overlap_eval.ipynb (deflated 83%)\n",
            "  adding: DataSnooping_Analysis_Data/BFsmall.csv (deflated 89%)\n",
            "  adding: DataSnooping_Analysis_Data/bfsm_results.json (deflated 83%)\n",
            "  adding: DataSnooping_Analysis_Data/BFmedium.csv (deflated 90%)\n",
            "  adding: DataSnooping_Analysis_Data/AGabs.csv (deflated 87%)\n",
            "  adding: DataSnooping_Analysis_Data/codesum_results.json (deflated 76%)\n",
            "  adding: DataSnooping_Analysis_Data/scratch_overlap_eval.ipynb (deflated 83%)\n"
          ],
          "name": "stdout"
        }
      ]
    },
    {
      "cell_type": "code",
      "metadata": {
        "id": "midL_kaP5CyF"
      },
      "source": [
        "! mv datasets.zip DataSnooping_Analysis_Data.zip /gdrive/MyDrive/T5-Extension/"
      ],
      "execution_count": 17,
      "outputs": []
    },
    {
      "cell_type": "code",
      "metadata": {
        "colab": {
          "base_uri": "https://localhost:8080/"
        },
        "id": "jFEFaLOSxHde",
        "outputId": "9a5793e8-9e59-4d74-e46b-b157b019b091"
      },
      "source": [
        "! pip install sentencepiece gdown statsmodels"
      ],
      "execution_count": null,
      "outputs": [
        {
          "output_type": "stream",
          "text": [
            "Collecting sentencepiece\n",
            "\u001b[?25l  Downloading https://files.pythonhosted.org/packages/f5/99/e0808cb947ba10f575839c43e8fafc9cc44e4a7a2c8f79c60db48220a577/sentencepiece-0.1.95-cp37-cp37m-manylinux2014_x86_64.whl (1.2MB)\n",
            "\u001b[K     |████████████████████████████████| 1.2MB 5.6MB/s \n",
            "\u001b[?25hRequirement already satisfied: gdown in /usr/local/lib/python3.7/dist-packages (3.6.4)\n",
            "Requirement already satisfied: statsmodels in /usr/local/lib/python3.7/dist-packages (0.10.2)\n",
            "Requirement already satisfied: requests in /usr/local/lib/python3.7/dist-packages (from gdown) (2.23.0)\n",
            "Requirement already satisfied: tqdm in /usr/local/lib/python3.7/dist-packages (from gdown) (4.41.1)\n",
            "Requirement already satisfied: six in /usr/local/lib/python3.7/dist-packages (from gdown) (1.15.0)\n",
            "Requirement already satisfied: patsy>=0.4.0 in /usr/local/lib/python3.7/dist-packages (from statsmodels) (0.5.1)\n",
            "Requirement already satisfied: numpy>=1.11 in /usr/local/lib/python3.7/dist-packages (from statsmodels) (1.19.5)\n",
            "Requirement already satisfied: pandas>=0.19 in /usr/local/lib/python3.7/dist-packages (from statsmodels) (1.1.5)\n",
            "Requirement already satisfied: scipy>=0.18 in /usr/local/lib/python3.7/dist-packages (from statsmodels) (1.4.1)\n",
            "Requirement already satisfied: chardet<4,>=3.0.2 in /usr/local/lib/python3.7/dist-packages (from requests->gdown) (3.0.4)\n",
            "Requirement already satisfied: idna<3,>=2.5 in /usr/local/lib/python3.7/dist-packages (from requests->gdown) (2.10)\n",
            "Requirement already satisfied: urllib3!=1.25.0,!=1.25.1,<1.26,>=1.21.1 in /usr/local/lib/python3.7/dist-packages (from requests->gdown) (1.24.3)\n",
            "Requirement already satisfied: certifi>=2017.4.17 in /usr/local/lib/python3.7/dist-packages (from requests->gdown) (2020.12.5)\n",
            "Requirement already satisfied: python-dateutil>=2.7.3 in /usr/local/lib/python3.7/dist-packages (from pandas>=0.19->statsmodels) (2.8.1)\n",
            "Requirement already satisfied: pytz>=2017.2 in /usr/local/lib/python3.7/dist-packages (from pandas>=0.19->statsmodels) (2018.9)\n",
            "Installing collected packages: sentencepiece\n",
            "Successfully installed sentencepiece-0.1.95\n"
          ],
          "name": "stdout"
        }
      ]
    },
    {
      "cell_type": "code",
      "metadata": {
        "id": "PSoyEedH6Cf2"
      },
      "source": [
        "import pandas as pd\n",
        "\n",
        "from pathlib import Path\n",
        "\n",
        "fine_tune_path = Path(\"datasets/tsv/fine-tuning\")\n",
        "\n",
        "def get_agab_dfs():\n",
        "    trn_agab_df = pd.read_csv(\n",
        "        fine_tune_path/\"AGabs/training.tsv\", sep=\"\\t\", \n",
        "        names=[\"input\", \"target\"]\n",
        "    )\n",
        "    tst_agab_df = pd.read_csv(\n",
        "        \"DataSnooping_Analysis_Data/AGabs.csv\", index_col=0\n",
        "    ).sort_values(\"IS_Perfect\")\n",
        "\n",
        "    return trn_agab_df, tst_agab_df\n",
        "\n",
        "def get_agraw_dfs():\n",
        "    trn_agraw_df = pd.read_csv(\n",
        "        fine_tune_path/\"AGraw/training.tsv\", sep=\"\\t\",\n",
        "        names=[\"input\", \"target\"]\n",
        "    )\n",
        "    tst_agraw_df = pd.read_csv(\n",
        "        \"DataSnooping_Analysis_Data/AGraw.csv\", index_col=0\n",
        "    ).sort_values(\"IS_Perfect\")\n",
        "\n",
        "    return trn_agraw_df, tst_agraw_df\n",
        "\n",
        "def get_bfsm_dfs():\n",
        "    trn_bfsm_df = pd.read_csv(\n",
        "        \"datasets/tsv/fine-tuning/BFsmall/training.tsv\", sep=\"\\t\",\n",
        "        names=[\"input\", \"target\"]\n",
        "    )\n",
        "    tst_bfsm_df = pd.read_csv(\n",
        "        \"DataSnooping_Analysis_Data/BFsmall.csv\", index_col=0\n",
        "    ).sort_values(\"IS_Perfect\")\n",
        "\n",
        "    return trn_bfsm_df, tst_bfsm_df\n",
        "\n",
        "def get_bfmed_dfs():\n",
        "    trn_bfmed_df = pd.read_csv(\n",
        "        \"datasets/tsv/fine-tuning/BFmedium/training.tsv\", sep=\"\\t\",\n",
        "        names=[\"input\", \"target\"]\n",
        "    )\n",
        "    tst_bfmed_df = pd.read_csv(\n",
        "        \"DataSnooping_Analysis_Data/BFmedium.csv\", index_col=0\n",
        "    ).sort_values(\"IS_Perfect\")\n",
        "\n",
        "    return trn_bfmed_df, tst_bfmed_df\n",
        "\n",
        "def get_codesum_dfs():\n",
        "    trn_codesum_df = pd.read_csv(\n",
        "        \"datasets/tsv/fine-tuning/CS/training.tsv\", sep=\"\\t\",\n",
        "        names=[\"input\", \"target\"]\n",
        "    )\n",
        "    tst_codesum_df = pd.read_csv(\n",
        "        \"DataSnooping_Analysis_Data/CodeSummarization.csv\", index_col=0\n",
        "    ).sort_values(\"BLEU\")\n",
        "\n",
        "    return trn_codesum_df, tst_codesum_df\n",
        "\n",
        "def get_muts_dfs():\n",
        "    trn_muts_df = pd.read_csv(\n",
        "        \"datasets/tsv/fine-tuning/MG/training.tsv\", sep=\"\\t\",\n",
        "        names=[\"input\", \"target\"]\n",
        "    )\n",
        "    tst_muts_df = pd.read_csv(\n",
        "        \"DataSnooping_Analysis_Data/Mutants.csv\", index_col=0\n",
        "    ).sort_values(\"BLEU\")\n",
        "\n",
        "    return trn_muts_df, tst_muts_df\n",
        "\n",
        "def sample_bst_wrst(df, pop=1_000, n=100):\n",
        "    bst = df.tail(pop)\n",
        "    wrst = df.head(pop)\n",
        "\n",
        "    return bst.sample(n), wrst.sample(n)"
      ],
      "execution_count": null,
      "outputs": []
    },
    {
      "cell_type": "code",
      "metadata": {
        "id": "bSGy7-SeHcbd"
      },
      "source": [
        "# This code was taken from https://gist.github.com/kylebgorman/1081951/bce3de986e4b05fc0b63d4d9e0cfa4bde6664365\n",
        "def _dist(A, B, insertion, deletion, substitution):\n",
        "    D = np.zeros((len(A) + 1, len(B) + 1))\n",
        "    for i in range(len(A)):\n",
        "        D[i + 1][0] = D[i][0] + deletion\n",
        "    for j in range(len(B)):\n",
        "        D[0][j + 1] = D[0][j] + insertion\n",
        "    for i in range(len(A)): # fill out middle of matrix\n",
        "        for j in range(len(B)):\n",
        "            if A[i] == B[j]:\n",
        "                D[i + 1][j + 1] = D[i][j] # aka, it's free.\n",
        "            else:\n",
        "                D[i + 1][j + 1] = min(D[i + 1][j] + insertion,\n",
        "                                      D[i][j + 1] + deletion,\n",
        "                                      D[i][j]     + substitution)\n",
        "    return D\n",
        "\n",
        "def levenshtein_distance(l1, l2, normalize=False):\n",
        "    dist = _dist(l1, l2, 1, 1, 1)[-1][-1]\n",
        "    if normalize:\n",
        "        return 1. - dist / max(len(l1), len(l2))\n",
        "    else:\n",
        "        return dist"
      ],
      "execution_count": null,
      "outputs": []
    },
    {
      "cell_type": "code",
      "metadata": {
        "id": "9S-6_5WPIt6g"
      },
      "source": [
        "# From https://github.com/neilernst/cliffsDelta\n",
        "from __future__ import division\n",
        "\n",
        "\n",
        "def cliffsDelta(lst1, lst2, **dull):\n",
        "\n",
        "    \"\"\"Returns delta and true if there are more than 'dull' differences\"\"\"\n",
        "    if not dull:\n",
        "        dull = {'small': 0.147, 'medium': 0.33, 'large': 0.474} # effect sizes from (Hess and Kromrey, 2004)\n",
        "    m, n = len(lst1), len(lst2)\n",
        "    lst2 = sorted(lst2)\n",
        "    j = more = less = 0\n",
        "    for repeats, x in runs(sorted(lst1)):\n",
        "        while j <= (n - 1) and lst2[j] < x:\n",
        "            j += 1\n",
        "        more += j*repeats\n",
        "        while j <= (n - 1) and lst2[j] == x:\n",
        "            j += 1\n",
        "        less += (n - j)*repeats\n",
        "    d = (more - less) / (m*n)\n",
        "    size = lookup_size(d, dull)\n",
        "    return d, size\n",
        "\n",
        "\n",
        "def lookup_size(delta: float, dull: dict) -> str:\n",
        "    \"\"\"\n",
        "    :type delta: float\n",
        "    :type dull: dict, a dictionary of small, medium, large thresholds.\n",
        "    \"\"\"\n",
        "    delta = abs(delta)\n",
        "    if delta < dull['small']:\n",
        "        return 'negligible'\n",
        "    if dull['small'] <= delta < dull['medium']:\n",
        "        return 'small'\n",
        "    if dull['medium'] <= delta < dull['large']:\n",
        "        return 'medium'\n",
        "    if delta >= dull['large']:\n",
        "        return 'large'\n",
        "\n",
        "\n",
        "def runs(lst):\n",
        "    \"\"\"Iterator, chunks repeated values\"\"\"\n",
        "    for j, two in enumerate(lst):\n",
        "        if j == 0:\n",
        "            one, i = two, 0\n",
        "        if one != two:\n",
        "            yield j - i, one\n",
        "            i = j\n",
        "        one = two\n",
        "    yield j - i + 1, two"
      ],
      "execution_count": null,
      "outputs": []
    },
    {
      "cell_type": "code",
      "metadata": {
        "id": "eT5XvEzsLRmh"
      },
      "source": [
        "import numpy as np\n",
        "\n",
        "from joblib import Parallel, delayed\n",
        "from scipy.stats import mannwhitneyu\n",
        "import scipy.stats as st\n",
        "from statistics import mean, median, stdev\n",
        "\n",
        "def get_dists(trn, tst):\n",
        "    import sentencepiece as spm\n",
        "    s = spm.SentencePieceProcessor(model_file='dl4se_vocab.model')\n",
        "    s.encode(\"public static void main\", out_type=str)\n",
        "    dists = Parallel(n_jobs=-1)(\n",
        "        delayed(levenshtein_distance)(s.encode(i), s.encode(j))\n",
        "        for i in trn for j in tst\n",
        "    )\n",
        "    \n",
        "    return dists\n",
        "\n",
        "# From https://stackoverflow.com/a/51288518/5768407 by Yetti\n",
        "def ci_overlap(start1, end1, start2, end2):\n",
        "    \"\"\"how much does the range (start1, end1) overlap with (start2, end2)\"\"\"\n",
        "    return max(max((end2-start1), 0) - max((end2-end1), 0) - max((start2-start1), 0), 0)\n",
        "\n",
        "def run_experiments(data_func, n_exp=100, pop=1_000, n_samp=100, alpha = 0.95):\n",
        "    bst_dists = []\n",
        "    wrst_dists = []\n",
        "\n",
        "    trn_df, tst_df = data_func()\n",
        "    for _ in range(n_exp):\n",
        "        (trn_bst, trn_wrst), (tst_bst, tst_wrst) = sample_bst_wrst(trn_df, pop, n_samp), sample_bst_wrst(tst_df, pop, n_samp)\n",
        "        bst_dists.extend(get_dists(trn_bst[\"target\"].values, tst_bst[\"Groundtruth\"].values))\n",
        "        wrst_dists.extend(get_dists(trn_wrst[\"target\"].values, tst_wrst[\"Groundtruth\"].values))\n",
        "    # change to confidence intervals\n",
        "    # mannwhitneyu_results = mannwhitneyu(results[\"best\"][\"dists\"], results[\"worst\"][\"dists\"], alternative=\"less\")\n",
        "    # cliffs_results = cliffsDelta(results[\"best\"][\"dists\"], results[\"worst\"][\"dists\"])\n",
        "    bst_ci = st.t.interval(\n",
        "        alpha=alpha, df=len(bst_dists)-1,\n",
        "        loc=np.mean(bst_dists),\n",
        "        scale=st.sem(bst_dists)\n",
        "    )\n",
        "    wrst_ci = st.t.interval(\n",
        "        alpha=alpha, df=len(wrst_dists)-1,\n",
        "        loc=np.mean(wrst_dists),\n",
        "        scale=st.sem(wrst_dists)\n",
        "    )\n",
        "\n",
        "    results = {\n",
        "        \"best\": {\n",
        "            \"dists\": bst_dists,\n",
        "            \"mean\": mean(bst_dists),\n",
        "            \"median\": median(bst_dists),\n",
        "            \"stdev\": stdev(bst_dists),\n",
        "            \"ci\": bst_ci,\n",
        "        },\n",
        "        \"worst\": {\n",
        "            \"dists\": wrst_dists,\n",
        "            \"mean\": mean(wrst_dists),\n",
        "            \"median\": median(wrst_dists),\n",
        "            \"stdev\": stdev(wrst_dists),\n",
        "            \"ci\": wrst_ci,\n",
        "        },\n",
        "        \"overlap\": ci_overlap(*bst_ci, *wrst_ci),\n",
        "        \"ci_alpha\": alpha,\n",
        "    }\n",
        "    # cm = sms.CompareMeans(sms.DescrStatsW(results[\"best\"][\"dists\"]), sms.DescrStatsW(results[\"worst\"][\"dists\"]))\n",
        "    # ci = cm.tconfint_diff(usevar='unequal')\n",
        "\n",
        "    return results"
      ],
      "execution_count": null,
      "outputs": []
    },
    {
      "cell_type": "code",
      "metadata": {
        "id": "vKNNfB1PzN3n"
      },
      "source": [
        "import json\n",
        "\n",
        "def data_snooping_analysis(output_path, n_exp=30, pop=1_000, n_samp=100):\n",
        "    datasets = [\n",
        "        # (\"agab\", get_agab_dfs), (\"agraw\", get_agraw_dfs),\n",
        "        # (\"bfsm\", get_bfsm_dfs), \n",
        "        (\"bfmed\", get_bfmed_dfs), # need to run this with fewer samples/experiments due to size\n",
        "        # (\"codesum\", get_codesum_dfs), (\"muts\", get_muts_dfs)\n",
        "    ]\n",
        "\n",
        "    for name, ds in datasets:\n",
        "        results = run_experiments(ds, n_exp=n_exp, pop=pop, n_samp=n_samp)\n",
        "        with open(output_path/f\"{name}_results.json\", 'w') as json_file:\n",
        "            json.dump(results, json_file)"
      ],
      "execution_count": null,
      "outputs": []
    },
    {
      "cell_type": "code",
      "metadata": {
        "colab": {
          "base_uri": "https://localhost:8080/"
        },
        "id": "jJKVXSezrnll",
        "outputId": "8c48ff5e-84d8-4944-ae8a-fe42737670fe"
      },
      "source": [
        "%%time\n",
        "# for bfmed\n",
        "output_path = Path(\"/gdrive/MyDrive/T5-Extension/DataSnooping_Analysis_Data\")\n",
        "data_snooping_analysis(output_path, n_exp=1, pop=1_000, n_samp=100)"
      ],
      "execution_count": null,
      "outputs": [
        {
          "output_type": "stream",
          "text": [
            "CPU times: user 47.9 s, sys: 1.38 s, total: 49.2 s\n",
            "Wall time: 11min 55s\n"
          ],
          "name": "stdout"
        }
      ]
    },
    {
      "cell_type": "code",
      "metadata": {
        "id": "mt2CT0ny0nRy"
      },
      "source": [
        "%%time\n",
        "output_path = Path(\"/gdrive/MyDrive/T5-Extension/DataSnooping_Analysis_Data\")\n",
        "data_snooping_analysis(output_path, n_exp=30, pop=1_000, n_samp=100)"
      ],
      "execution_count": null,
      "outputs": []
    },
    {
      "cell_type": "code",
      "metadata": {
        "colab": {
          "base_uri": "https://localhost:8080/"
        },
        "id": "pJjK-eRg4Tmw",
        "outputId": "c3d42209-e8c5-4326-f6af-b098129e0fa5"
      },
      "source": [
        "ls"
      ],
      "execution_count": null,
      "outputs": [
        {
          "output_type": "stream",
          "text": [
            "\u001b[0m\u001b[01;34msample_data\u001b[0m/\n"
          ],
          "name": "stdout"
        }
      ]
    },
    {
      "cell_type": "code",
      "metadata": {
        "id": "tQQMLxOM4Tup"
      },
      "source": [
        ""
      ],
      "execution_count": null,
      "outputs": []
    },
    {
      "cell_type": "code",
      "metadata": {
        "id": "1XL78koO4TvO"
      },
      "source": [
        ""
      ],
      "execution_count": null,
      "outputs": []
    },
    {
      "cell_type": "code",
      "metadata": {
        "id": "r0f0JDdf4Tv_"
      },
      "source": [
        ""
      ],
      "execution_count": null,
      "outputs": []
    },
    {
      "cell_type": "code",
      "metadata": {
        "id": "REz_312c4Twr"
      },
      "source": [
        ""
      ],
      "execution_count": null,
      "outputs": []
    },
    {
      "cell_type": "code",
      "metadata": {
        "id": "Z38qUU2e4TxX"
      },
      "source": [
        ""
      ],
      "execution_count": null,
      "outputs": []
    },
    {
      "cell_type": "code",
      "metadata": {
        "id": "fU3BNz_-4Tz3"
      },
      "source": [
        ""
      ],
      "execution_count": null,
      "outputs": []
    },
    {
      "cell_type": "code",
      "metadata": {
        "id": "qOVXNAcp4T0g"
      },
      "source": [
        ""
      ],
      "execution_count": null,
      "outputs": []
    },
    {
      "cell_type": "code",
      "metadata": {
        "id": "mbUEg79Q4T1p"
      },
      "source": [
        ""
      ],
      "execution_count": null,
      "outputs": []
    },
    {
      "cell_type": "code",
      "metadata": {
        "id": "I4VXZh-B4T2Q"
      },
      "source": [
        ""
      ],
      "execution_count": null,
      "outputs": []
    },
    {
      "cell_type": "code",
      "metadata": {
        "id": "Scj3RNWO4T28"
      },
      "source": [
        ""
      ],
      "execution_count": null,
      "outputs": []
    },
    {
      "cell_type": "code",
      "metadata": {
        "id": "41pOoAS54T3w"
      },
      "source": [
        ""
      ],
      "execution_count": null,
      "outputs": []
    },
    {
      "cell_type": "code",
      "metadata": {
        "id": "Ouzhq_PT4T4k"
      },
      "source": [
        ""
      ],
      "execution_count": null,
      "outputs": []
    },
    {
      "cell_type": "code",
      "metadata": {
        "id": "SwYNxtiC4T5W"
      },
      "source": [
        ""
      ],
      "execution_count": null,
      "outputs": []
    },
    {
      "cell_type": "code",
      "metadata": {
        "id": "WaZMdL2N4T6J"
      },
      "source": [
        ""
      ],
      "execution_count": null,
      "outputs": []
    },
    {
      "cell_type": "code",
      "metadata": {
        "id": "tNDWxbSD4T65"
      },
      "source": [
        ""
      ],
      "execution_count": null,
      "outputs": []
    },
    {
      "cell_type": "code",
      "metadata": {
        "id": "neKtWITP4T7_"
      },
      "source": [
        ""
      ],
      "execution_count": null,
      "outputs": []
    },
    {
      "cell_type": "code",
      "metadata": {
        "id": "f9fhlxcW4T8o"
      },
      "source": [
        ""
      ],
      "execution_count": null,
      "outputs": []
    },
    {
      "cell_type": "code",
      "metadata": {
        "id": "vmksoRu34T9Z"
      },
      "source": [
        ""
      ],
      "execution_count": null,
      "outputs": []
    },
    {
      "cell_type": "code",
      "metadata": {
        "id": "SosCBBAJ4T-J"
      },
      "source": [
        ""
      ],
      "execution_count": null,
      "outputs": []
    },
    {
      "cell_type": "code",
      "metadata": {
        "id": "F-cx2dN14T-0"
      },
      "source": [
        ""
      ],
      "execution_count": null,
      "outputs": []
    },
    {
      "cell_type": "code",
      "metadata": {
        "id": "FO3tIBYe4T_j"
      },
      "source": [
        ""
      ],
      "execution_count": null,
      "outputs": []
    },
    {
      "cell_type": "code",
      "metadata": {
        "id": "smSWER2S4UAP"
      },
      "source": [
        ""
      ],
      "execution_count": null,
      "outputs": []
    },
    {
      "cell_type": "code",
      "metadata": {
        "id": "AjLxIu2E4UA9"
      },
      "source": [
        ""
      ],
      "execution_count": null,
      "outputs": []
    },
    {
      "cell_type": "code",
      "metadata": {
        "id": "0QrU9M9v4UBw"
      },
      "source": [
        ""
      ],
      "execution_count": null,
      "outputs": []
    },
    {
      "cell_type": "code",
      "metadata": {
        "id": "kxIMdALK4UCi"
      },
      "source": [
        ""
      ],
      "execution_count": null,
      "outputs": []
    },
    {
      "cell_type": "code",
      "metadata": {
        "id": "iNJobDih4UDS"
      },
      "source": [
        ""
      ],
      "execution_count": null,
      "outputs": []
    },
    {
      "cell_type": "code",
      "metadata": {
        "id": "iEQa397_4UEC"
      },
      "source": [
        ""
      ],
      "execution_count": null,
      "outputs": []
    },
    {
      "cell_type": "code",
      "metadata": {
        "id": "Gp29Qj7V4UEw"
      },
      "source": [
        ""
      ],
      "execution_count": null,
      "outputs": []
    },
    {
      "cell_type": "code",
      "metadata": {
        "id": "oRsoKSR44UFg"
      },
      "source": [
        ""
      ],
      "execution_count": null,
      "outputs": []
    },
    {
      "cell_type": "code",
      "metadata": {
        "colab": {
          "base_uri": "https://localhost:8080/"
        },
        "id": "8rvTlNKWH9fc",
        "outputId": "b116974d-e63c-43dc-fd64-835ccca08d42"
      },
      "source": [
        "%%time\n",
        "results = run_experiments(get_agraw_dfs, n_exp=1, pop=1_000, n_samp=100)"
      ],
      "execution_count": null,
      "outputs": [
        {
          "output_type": "stream",
          "text": [
            "CPU times: user 11.5 s, sys: 247 ms, total: 11.7 s\n",
            "Wall time: 42.2 s\n"
          ],
          "name": "stdout"
        }
      ]
    },
    {
      "cell_type": "code",
      "metadata": {
        "colab": {
          "base_uri": "https://localhost:8080/"
        },
        "id": "kioRuvCgy1zY",
        "outputId": "92bbd5c5-ef80-4a08-f6b5-759e8c0b6450"
      },
      "source": [
        "results[\"best\"][\"ci\"]"
      ],
      "execution_count": null,
      "outputs": [
        {
          "output_type": "execute_result",
          "data": {
            "text/plain": [
              "(23.55650225893392, 24.35429774106608)"
            ]
          },
          "metadata": {
            "tags": []
          },
          "execution_count": 47
        }
      ]
    },
    {
      "cell_type": "code",
      "metadata": {
        "colab": {
          "base_uri": "https://localhost:8080/"
        },
        "id": "ZRzBk7OYycWe",
        "outputId": "fd5a89fb-1279-4e46-8053-3660b258986a"
      },
      "source": [
        "results[\"best\"][\"ci\"]"
      ],
      "execution_count": null,
      "outputs": [
        {
          "output_type": "execute_result",
          "data": {
            "text/plain": [
              "(23.185239365108536, 23.909160634891464)"
            ]
          },
          "metadata": {
            "tags": []
          },
          "execution_count": 44
        }
      ]
    },
    {
      "cell_type": "code",
      "metadata": {
        "colab": {
          "base_uri": "https://localhost:8080/"
        },
        "id": "bu-53ZqXpvv5",
        "outputId": "1357b631-c1f6-4e2a-e25a-008095f0d36d"
      },
      "source": [
        "bst_ci, wrst_ci, overlap"
      ],
      "execution_count": null,
      "outputs": [
        {
          "output_type": "execute_result",
          "data": {
            "text/plain": [
              "((19.302129843465664, 19.722070156534336),\n",
              " (24.004370813763796, 24.604229186236207),\n",
              " 0)"
            ]
          },
          "metadata": {
            "tags": []
          },
          "execution_count": 38
        }
      ]
    },
    {
      "cell_type": "code",
      "metadata": {
        "id": "Ic8eiU74qycO"
      },
      "source": [
        ""
      ],
      "execution_count": null,
      "outputs": []
    },
    {
      "cell_type": "code",
      "metadata": {
        "id": "vu7ekNw_qyj8"
      },
      "source": [
        ""
      ],
      "execution_count": null,
      "outputs": []
    },
    {
      "cell_type": "code",
      "metadata": {
        "id": "A0_WVe6Iqykh"
      },
      "source": [
        ""
      ],
      "execution_count": null,
      "outputs": []
    },
    {
      "cell_type": "code",
      "metadata": {
        "id": "3bVEXmY9qylK"
      },
      "source": [
        ""
      ],
      "execution_count": null,
      "outputs": []
    },
    {
      "cell_type": "code",
      "metadata": {
        "id": "6ow4kBduqyly"
      },
      "source": [
        ""
      ],
      "execution_count": null,
      "outputs": []
    },
    {
      "cell_type": "code",
      "metadata": {
        "id": "JRQy9Kuiqymb"
      },
      "source": [
        ""
      ],
      "execution_count": null,
      "outputs": []
    },
    {
      "cell_type": "code",
      "metadata": {
        "id": "cRYt43SoqynF"
      },
      "source": [
        ""
      ],
      "execution_count": null,
      "outputs": []
    },
    {
      "cell_type": "code",
      "metadata": {
        "id": "FvwxOxWQqyny"
      },
      "source": [
        ""
      ],
      "execution_count": null,
      "outputs": []
    },
    {
      "cell_type": "code",
      "metadata": {
        "id": "tQg-ORcfqyoc"
      },
      "source": [
        ""
      ],
      "execution_count": null,
      "outputs": []
    },
    {
      "cell_type": "code",
      "metadata": {
        "id": "QLFd2EvUqypA"
      },
      "source": [
        ""
      ],
      "execution_count": null,
      "outputs": []
    },
    {
      "cell_type": "code",
      "metadata": {
        "id": "8_xlhA2Zqypl"
      },
      "source": [
        ""
      ],
      "execution_count": null,
      "outputs": []
    },
    {
      "cell_type": "code",
      "metadata": {
        "id": "FzilOi2GqyqI"
      },
      "source": [
        ""
      ],
      "execution_count": null,
      "outputs": []
    },
    {
      "cell_type": "code",
      "metadata": {
        "id": "30dzvBgTqyqy"
      },
      "source": [
        ""
      ],
      "execution_count": null,
      "outputs": []
    },
    {
      "cell_type": "code",
      "metadata": {
        "id": "pUOxxUewqyrZ"
      },
      "source": [
        ""
      ],
      "execution_count": null,
      "outputs": []
    },
    {
      "cell_type": "code",
      "metadata": {
        "id": "wIa0scbdqyr-"
      },
      "source": [
        ""
      ],
      "execution_count": null,
      "outputs": []
    },
    {
      "cell_type": "code",
      "metadata": {
        "id": "C2i49KtSqysl"
      },
      "source": [
        ""
      ],
      "execution_count": null,
      "outputs": []
    },
    {
      "cell_type": "code",
      "metadata": {
        "id": "5ufMM4c6qytL"
      },
      "source": [
        ""
      ],
      "execution_count": null,
      "outputs": []
    },
    {
      "cell_type": "code",
      "metadata": {
        "id": "YtZkENUkqytv"
      },
      "source": [
        ""
      ],
      "execution_count": null,
      "outputs": []
    },
    {
      "cell_type": "code",
      "metadata": {
        "id": "B3rLEghyqyua"
      },
      "source": [
        ""
      ],
      "execution_count": null,
      "outputs": []
    },
    {
      "cell_type": "code",
      "metadata": {
        "id": "EpRJM9nzqyvD"
      },
      "source": [
        ""
      ],
      "execution_count": null,
      "outputs": []
    },
    {
      "cell_type": "code",
      "metadata": {
        "id": "AlDcSzhDqyvr"
      },
      "source": [
        ""
      ],
      "execution_count": null,
      "outputs": []
    },
    {
      "cell_type": "code",
      "metadata": {
        "id": "9PJtuThDqywb"
      },
      "source": [
        ""
      ],
      "execution_count": null,
      "outputs": []
    },
    {
      "cell_type": "code",
      "metadata": {
        "id": "G14F8kv8qyxA"
      },
      "source": [
        ""
      ],
      "execution_count": null,
      "outputs": []
    },
    {
      "cell_type": "code",
      "metadata": {
        "id": "OteJuLJjqyxm"
      },
      "source": [
        ""
      ],
      "execution_count": null,
      "outputs": []
    },
    {
      "cell_type": "code",
      "metadata": {
        "id": "f6bWPBv8qyyR"
      },
      "source": [
        ""
      ],
      "execution_count": null,
      "outputs": []
    },
    {
      "cell_type": "code",
      "metadata": {
        "id": "8nHl33t8qyy7"
      },
      "source": [
        ""
      ],
      "execution_count": null,
      "outputs": []
    },
    {
      "cell_type": "code",
      "metadata": {
        "id": "hOE7B_GHqyzk"
      },
      "source": [
        ""
      ],
      "execution_count": null,
      "outputs": []
    },
    {
      "cell_type": "code",
      "metadata": {
        "id": "eio3ophpqy0M"
      },
      "source": [
        ""
      ],
      "execution_count": null,
      "outputs": []
    },
    {
      "cell_type": "code",
      "metadata": {
        "id": "W7-GirVSqy05"
      },
      "source": [
        ""
      ],
      "execution_count": null,
      "outputs": []
    },
    {
      "cell_type": "code",
      "metadata": {
        "id": "DBOHEu95qy1l"
      },
      "source": [
        ""
      ],
      "execution_count": null,
      "outputs": []
    },
    {
      "cell_type": "code",
      "metadata": {
        "id": "iKTGSRK-qy2Q"
      },
      "source": [
        ""
      ],
      "execution_count": null,
      "outputs": []
    },
    {
      "cell_type": "code",
      "metadata": {
        "id": "33lMgiJ-qy29"
      },
      "source": [
        ""
      ],
      "execution_count": null,
      "outputs": []
    },
    {
      "cell_type": "code",
      "metadata": {
        "colab": {
          "base_uri": "https://localhost:8080/"
        },
        "id": "wmyUZSBKLVZO",
        "outputId": "1198137c-d79e-4cfc-b717-ddef3dbbd32d"
      },
      "source": [
        "mannwhitneyu_results, cliffs_results"
      ],
      "execution_count": null,
      "outputs": [
        {
          "output_type": "execute_result",
          "data": {
            "text/plain": [
              "(MannwhitneyuResult(statistic=44739502.0, pvalue=2.6755838935035946e-38),\n",
              " (-0.10520996, 'negligible'))"
            ]
          },
          "metadata": {
            "tags": []
          },
          "execution_count": 10
        }
      ]
    },
    {
      "cell_type": "code",
      "metadata": {
        "colab": {
          "base_uri": "https://localhost:8080/"
        },
        "id": "-m1oIB4oMpyK",
        "outputId": "6baffeab-80af-4060-ad6d-9205153dcd40"
      },
      "source": [
        "%%time\n",
        "results, mannwhitneyu_results, cliffs_results = run_experiments(get_agab_dfs, n = 1)"
      ],
      "execution_count": null,
      "outputs": [
        {
          "output_type": "stream",
          "text": [
            "CPU times: user 11.5 s, sys: 636 ms, total: 12.1 s\n",
            "Wall time: 4min 12s\n"
          ],
          "name": "stdout"
        }
      ]
    },
    {
      "cell_type": "code",
      "metadata": {
        "colab": {
          "base_uri": "https://localhost:8080/"
        },
        "id": "5l4WPxacMpyN",
        "outputId": "4ae6aa0e-7e97-45bf-dba2-181c54a09ab1"
      },
      "source": [
        "mannwhitneyu_results, cliffs_results"
      ],
      "execution_count": null,
      "outputs": [
        {
          "output_type": "execute_result",
          "data": {
            "text/plain": [
              "(MannwhitneyuResult(statistic=38004042.5, pvalue=3.6365152894718975e-190),\n",
              " (-0.23991915, 'small'))"
            ]
          },
          "metadata": {
            "tags": []
          },
          "execution_count": 14
        }
      ]
    },
    {
      "cell_type": "code",
      "metadata": {
        "colab": {
          "base_uri": "https://localhost:8080/"
        },
        "id": "qz1mRFIh0-JB",
        "outputId": "e9372158-5a9a-43bb-80c0-1e00ca744f95"
      },
      "source": [
        "%%time\n",
        "results = run_experiments(trn_agraw_df, tst_agraw_df, n = 1)"
      ],
      "execution_count": null,
      "outputs": [
        {
          "output_type": "stream",
          "text": [
            "CPU times: user 12.4 s, sys: 481 ms, total: 12.9 s\n",
            "Wall time: 5min 38s\n"
          ],
          "name": "stdout"
        }
      ]
    },
    {
      "cell_type": "code",
      "metadata": {
        "colab": {
          "base_uri": "https://localhost:8080/"
        },
        "id": "QQAsjmj-9jcJ",
        "outputId": "6ec35177-7ace-4d2c-bb98-0e68d98ed7ee"
      },
      "source": [
        "from scipy.stats import mannwhitneyu\n",
        "\n",
        "mannwhitneyu(results[\"best\"][\"dists\"], results[\"worst\"][\"dists\"], alternative=\"less\")"
      ],
      "execution_count": null,
      "outputs": [
        {
          "output_type": "execute_result",
          "data": {
            "text/plain": [
              "MannwhitneyuResult(statistic=48895852.0, pvalue=0.003416991123538754)"
            ]
          },
          "metadata": {
            "tags": []
          },
          "execution_count": 17
        }
      ]
    },
    {
      "cell_type": "code",
      "metadata": {
        "id": "XVlHbEkPA3cT"
      },
      "source": [
        ""
      ],
      "execution_count": null,
      "outputs": []
    },
    {
      "cell_type": "code",
      "metadata": {
        "colab": {
          "base_uri": "https://localhost:8080/"
        },
        "id": "uy4-k6khA4DV",
        "outputId": "815a1c1d-fb01-4444-ca3a-d9443d281b6c"
      },
      "source": [
        "cliffsDelta(results[\"best\"][\"dists\"], results[\"worst\"][\"dists\"])"
      ],
      "execution_count": null,
      "outputs": [
        {
          "output_type": "execute_result",
          "data": {
            "text/plain": [
              "(-0.02208296, 'negligible')"
            ]
          },
          "metadata": {
            "tags": []
          },
          "execution_count": 21
        }
      ]
    },
    {
      "cell_type": "code",
      "metadata": {
        "id": "JhVOxB0S1M2N"
      },
      "source": [
        "results"
      ],
      "execution_count": null,
      "outputs": []
    },
    {
      "cell_type": "code",
      "metadata": {
        "id": "xolT7XWEA26l"
      },
      "source": [
        ""
      ],
      "execution_count": null,
      "outputs": []
    },
    {
      "cell_type": "code",
      "metadata": {
        "id": "zXGA5rSXA2-l"
      },
      "source": [
        ""
      ],
      "execution_count": null,
      "outputs": []
    },
    {
      "cell_type": "code",
      "metadata": {
        "id": "xNBPK59VA3By"
      },
      "source": [
        ""
      ],
      "execution_count": null,
      "outputs": []
    },
    {
      "cell_type": "code",
      "metadata": {
        "id": "KXI3aPq1A3Er"
      },
      "source": [
        ""
      ],
      "execution_count": null,
      "outputs": []
    },
    {
      "cell_type": "code",
      "metadata": {
        "id": "92-rNB4lA3Hc"
      },
      "source": [
        ""
      ],
      "execution_count": null,
      "outputs": []
    },
    {
      "cell_type": "code",
      "metadata": {
        "id": "e-GHZDuZA3KQ"
      },
      "source": [
        ""
      ],
      "execution_count": null,
      "outputs": []
    },
    {
      "cell_type": "code",
      "metadata": {
        "colab": {
          "base_uri": "https://localhost:8080/"
        },
        "id": "Au1r6DYiLuZ7",
        "outputId": "57768879-5173-4b3a-e51f-a561c7c54b08"
      },
      "source": [
        "%%time\n",
        "trn, tst = trn_bst[\"target\"].values, tst_bst[\"Groundtruth\"].values\n",
        "\n",
        "avg, med, std = get_overlap(trn, tst)"
      ],
      "execution_count": null,
      "outputs": [
        {
          "output_type": "stream",
          "text": [
            "CPU times: user 3.15 s, sys: 140 ms, total: 3.29 s\n",
            "Wall time: 1min 30s\n"
          ],
          "name": "stdout"
        }
      ]
    },
    {
      "cell_type": "code",
      "metadata": {
        "colab": {
          "base_uri": "https://localhost:8080/"
        },
        "id": "EOAWjdcFHzdU",
        "outputId": "53b2d63a-4dba-40ae-ccc6-ff46998a1446"
      },
      "source": [
        "avg, med, std"
      ],
      "execution_count": null,
      "outputs": [
        {
          "output_type": "execute_result",
          "data": {
            "text/plain": [
              "(47.4261, 32.0, 43.71244692981232)"
            ]
          },
          "metadata": {
            "tags": []
          },
          "execution_count": 78
        }
      ]
    },
    {
      "cell_type": "code",
      "metadata": {
        "colab": {
          "base_uri": "https://localhost:8080/"
        },
        "id": "xd9538zPUP1K",
        "outputId": "8b11b197-fcd3-489b-e96e-03ca8af786d2"
      },
      "source": [
        "%%time\n",
        "trn, tst = trn_wrst[\"target\"].values, tst_wrst[\"Groundtruth\"].values\n",
        "\n",
        "avg, med, std = get_overlap(trn, tst)"
      ],
      "execution_count": null,
      "outputs": [
        {
          "output_type": "stream",
          "text": [
            "CPU times: user 5.12 s, sys: 248 ms, total: 5.37 s\n",
            "Wall time: 1min 51s\n"
          ],
          "name": "stdout"
        }
      ]
    },
    {
      "cell_type": "code",
      "metadata": {
        "colab": {
          "base_uri": "https://localhost:8080/"
        },
        "id": "BtVaeldaUP5S",
        "outputId": "47347243-8854-4afc-c327-52d15a280910"
      },
      "source": [
        "avg, med, std"
      ],
      "execution_count": null,
      "outputs": [
        {
          "output_type": "execute_result",
          "data": {
            "text/plain": [
              "(51.6158, 44.0, 30.266013835973705)"
            ]
          },
          "metadata": {
            "tags": []
          },
          "execution_count": 82
        }
      ]
    },
    {
      "cell_type": "code",
      "metadata": {
        "id": "y1Y2a4_kUP8K"
      },
      "source": [
        ""
      ],
      "execution_count": null,
      "outputs": []
    },
    {
      "cell_type": "code",
      "metadata": {
        "id": "D-osXhIDUP_J"
      },
      "source": [
        ""
      ],
      "execution_count": null,
      "outputs": []
    },
    {
      "cell_type": "code",
      "metadata": {
        "id": "MVjBQ7UrUQCB"
      },
      "source": [
        ""
      ],
      "execution_count": null,
      "outputs": []
    },
    {
      "cell_type": "code",
      "metadata": {
        "id": "R_c0vrlUUQFJ"
      },
      "source": [
        ""
      ],
      "execution_count": null,
      "outputs": []
    },
    {
      "cell_type": "code",
      "metadata": {
        "id": "AEeg8R_JUQIC"
      },
      "source": [
        ""
      ],
      "execution_count": null,
      "outputs": []
    },
    {
      "cell_type": "code",
      "metadata": {
        "id": "fruDBlerUQK4"
      },
      "source": [
        ""
      ],
      "execution_count": null,
      "outputs": []
    },
    {
      "cell_type": "code",
      "metadata": {
        "id": "ljUMb785UQNe"
      },
      "source": [
        ""
      ],
      "execution_count": null,
      "outputs": []
    },
    {
      "cell_type": "code",
      "metadata": {
        "id": "fDnu_CKgUQQm"
      },
      "source": [
        ""
      ],
      "execution_count": null,
      "outputs": []
    },
    {
      "cell_type": "code",
      "metadata": {
        "id": "FV5Ri8rSUQTa"
      },
      "source": [
        ""
      ],
      "execution_count": null,
      "outputs": []
    },
    {
      "cell_type": "code",
      "metadata": {
        "id": "z8YGC7MpUQWE"
      },
      "source": [
        ""
      ],
      "execution_count": null,
      "outputs": []
    },
    {
      "cell_type": "code",
      "metadata": {
        "id": "hQmHsVXyHzgK"
      },
      "source": [
        "df = pd.DataFrame(zip(trn_agraw_df.head(10)[\"input\"].values, tst_agraw_df.head()[\"Input\"].values), columns=[\"train_input\", \"test_input\"])"
      ],
      "execution_count": null,
      "outputs": []
    },
    {
      "cell_type": "code",
      "metadata": {
        "colab": {
          "base_uri": "https://localhost:8080/"
        },
        "id": "BjgNs60PHziy",
        "outputId": "568c5075-a3b7-42a6-e8ba-88e565fe78ba"
      },
      "source": [
        "df.apply(lambda x: levenshtein_distance(x[\"train_input\"], x[\"test_input\"]), axis=1)"
      ],
      "execution_count": null,
      "outputs": [
        {
          "output_type": "execute_result",
          "data": {
            "text/plain": [
              "0    1269.0\n",
              "1     559.0\n",
              "2     351.0\n",
              "3     648.0\n",
              "4     260.0\n",
              "dtype: float64"
            ]
          },
          "metadata": {
            "tags": []
          },
          "execution_count": 43
        }
      ]
    },
    {
      "cell_type": "code",
      "metadata": {
        "colab": {
          "base_uri": "https://localhost:8080/"
        },
        "id": "26g8WC0uHzl1",
        "outputId": "c83cbbae-1758-4efd-ddcf-6a62a37aa99a"
      },
      "source": [
        "%%time\n",
        "from joblib import Parallel, delayed\n",
        "\n",
        "trn, tst = trn_agraw_df.head()[\"input\"].values, tst_agraw_df.head()[\"Input\"].values\n",
        "\n",
        "parallel_dists = Parallel(n_jobs=2)(delayed(levenshtein_distance)(i, j) for i in trn for j in tst)"
      ],
      "execution_count": null,
      "outputs": [
        {
          "output_type": "stream",
          "text": [
            "CPU times: user 179 ms, sys: 16 ms, total: 195 ms\n",
            "Wall time: 20.6 s\n"
          ],
          "name": "stdout"
        }
      ]
    },
    {
      "cell_type": "code",
      "metadata": {
        "colab": {
          "base_uri": "https://localhost:8080/"
        },
        "id": "4itMvVYtSaqH",
        "outputId": "ea15cc52-7caa-427c-c2c5-f89825a40298"
      },
      "source": [
        "%%time\n",
        "from joblib import Parallel, delayed\n",
        "\n",
        "trn, tst = trn_agraw_df.head()[\"input\"].values, tst_agraw_df.head()[\"Input\"].values\n",
        "\n",
        "parallel_dists = Parallel(n_jobs=-1)(delayed(levenshtein_distance)(i, j) for i in trn for j in tst)"
      ],
      "execution_count": null,
      "outputs": [
        {
          "output_type": "stream",
          "text": [
            "CPU times: user 192 ms, sys: 15.9 ms, total: 208 ms\n",
            "Wall time: 21.1 s\n"
          ],
          "name": "stdout"
        }
      ]
    },
    {
      "cell_type": "code",
      "metadata": {
        "colab": {
          "base_uri": "https://localhost:8080/"
        },
        "id": "ZnUPQ4CEHzoq",
        "outputId": "74dd1732-2a9f-42ce-b44a-1d1d3b02def3"
      },
      "source": [
        "%%time\n",
        "\n",
        "dists = []\n",
        "for i in trn:\n",
        "    for j in tst:\n",
        "        dists.append(levenshtein_distance(i, j))"
      ],
      "execution_count": null,
      "outputs": [
        {
          "output_type": "stream",
          "text": [
            "CPU times: user 27.9 s, sys: 61.5 ms, total: 28 s\n",
            "Wall time: 28.1 s\n"
          ],
          "name": "stdout"
        }
      ]
    },
    {
      "cell_type": "code",
      "metadata": {
        "colab": {
          "base_uri": "https://localhost:8080/"
        },
        "id": "-0IMpL1rSGis",
        "outputId": "c11d0778-2279-48a6-cef1-3022939b0fc1"
      },
      "source": [
        "parallel_dists == dists"
      ],
      "execution_count": null,
      "outputs": [
        {
          "output_type": "execute_result",
          "data": {
            "text/plain": [
              "True"
            ]
          },
          "metadata": {
            "tags": []
          },
          "execution_count": 56
        }
      ]
    },
    {
      "cell_type": "code",
      "metadata": {
        "colab": {
          "base_uri": "https://localhost:8080/"
        },
        "id": "qkjf8PTuS8he",
        "outputId": "db8aa17e-5182-47be-950f-8417f358a52d"
      },
      "source": [
        "len(dists)"
      ],
      "execution_count": null,
      "outputs": [
        {
          "output_type": "execute_result",
          "data": {
            "text/plain": [
              "25"
            ]
          },
          "metadata": {
            "tags": []
          },
          "execution_count": 57
        }
      ]
    },
    {
      "cell_type": "code",
      "metadata": {
        "colab": {
          "base_uri": "https://localhost:8080/"
        },
        "id": "-OQkq9-QSKqy",
        "outputId": "0c9609b1-14a4-4bcc-bb49-bc93465ef53e"
      },
      "source": [
        "! lscpu"
      ],
      "execution_count": null,
      "outputs": [
        {
          "output_type": "stream",
          "text": [
            "Architecture:        x86_64\n",
            "CPU op-mode(s):      32-bit, 64-bit\n",
            "Byte Order:          Little Endian\n",
            "CPU(s):              2\n",
            "On-line CPU(s) list: 0,1\n",
            "Thread(s) per core:  2\n",
            "Core(s) per socket:  1\n",
            "Socket(s):           1\n",
            "NUMA node(s):        1\n",
            "Vendor ID:           AuthenticAMD\n",
            "CPU family:          23\n",
            "Model:               49\n",
            "Model name:          AMD EPYC 7B12\n",
            "Stepping:            0\n",
            "CPU MHz:             2250.000\n",
            "BogoMIPS:            4500.00\n",
            "Hypervisor vendor:   KVM\n",
            "Virtualization type: full\n",
            "L1d cache:           32K\n",
            "L1i cache:           32K\n",
            "L2 cache:            512K\n",
            "L3 cache:            16384K\n",
            "NUMA node0 CPU(s):   0,1\n",
            "Flags:               fpu vme de pse tsc msr pae mce cx8 apic sep mtrr pge mca cmov pat pse36 clflush mmx fxsr sse sse2 ht syscall nx mmxext fxsr_opt pdpe1gb rdtscp lm constant_tsc rep_good nopl xtopology nonstop_tsc cpuid extd_apicid tsc_known_freq pni pclmulqdq ssse3 fma cx16 sse4_1 sse4_2 movbe popcnt aes xsave avx f16c rdrand hypervisor lahf_lm cmp_legacy cr8_legacy abm sse4a misalignsse 3dnowprefetch osvw topoext ssbd ibrs ibpb stibp vmmcall fsgsbase tsc_adjust bmi1 avx2 smep bmi2 rdseed adx smap clflushopt clwb sha_ni xsaveopt xsavec xgetbv1 clzero xsaveerptr arat npt nrip_save umip rdpid\n"
          ],
          "name": "stdout"
        }
      ]
    },
    {
      "cell_type": "code",
      "metadata": {
        "colab": {
          "base_uri": "https://localhost:8080/",
          "height": 202
        },
        "id": "9GpzYGQRB8EB",
        "outputId": "a1978bbe-0ac8-4720-ac74-fc7ea86c9e65"
      },
      "source": [
        "trn_agraw_df, tst_agraw_df = get_agraw_dfs(); tst_agraw_df.head()"
      ],
      "execution_count": null,
      "outputs": [
        {
          "output_type": "execute_result",
          "data": {
            "text/html": [
              "<div>\n",
              "<style scoped>\n",
              "    .dataframe tbody tr th:only-of-type {\n",
              "        vertical-align: middle;\n",
              "    }\n",
              "\n",
              "    .dataframe tbody tr th {\n",
              "        vertical-align: top;\n",
              "    }\n",
              "\n",
              "    .dataframe thead th {\n",
              "        text-align: right;\n",
              "    }\n",
              "</style>\n",
              "<table border=\"1\" class=\"dataframe\">\n",
              "  <thead>\n",
              "    <tr style=\"text-align: right;\">\n",
              "      <th></th>\n",
              "      <th>Input</th>\n",
              "      <th>Groundtruth</th>\n",
              "      <th>Output</th>\n",
              "      <th>IS_Perfect</th>\n",
              "    </tr>\n",
              "  </thead>\n",
              "  <tbody>\n",
              "    <tr>\n",
              "      <th>0</th>\n",
              "      <td>testgetlibrariesdoesdeduplication ( ) { when (...</td>\n",
              "      <td>org . junit . assert . assertarrayequals ( new...</td>\n",
              "      <td>org. junit. assert. assertequals ( 0, categori...</td>\n",
              "      <td>False</td>\n",
              "    </tr>\n",
              "    <tr>\n",
              "      <th>10501</th>\n",
              "      <td>testclosewithoutwritinganything ( ) { com . go...</td>\n",
              "      <td>org . junit . assert . asserttrue ( getfilecon...</td>\n",
              "      <td>org. junit. assert. assertequals ( 0, channel....</td>\n",
              "      <td>False</td>\n",
              "    </tr>\n",
              "    <tr>\n",
              "      <th>10502</th>\n",
              "      <td>testjavaversionloginfoandoutput ( ) { org . ze...</td>\n",
              "      <td>org . junit . assert . assertfalse ( org . apa...</td>\n",
              "      <td>org. junit. assert. assertnotnull ( str )</td>\n",
              "      <td>False</td>\n",
              "    </tr>\n",
              "    <tr>\n",
              "      <th>10503</th>\n",
              "      <td>checktime10 ( ) { com . alibaba . fastjson . p...</td>\n",
              "      <td>org . junit . assert . assertequals ( false , ...</td>\n",
              "      <td>org. junit. assert. assertequals ( true, retval )</td>\n",
              "      <td>False</td>\n",
              "    </tr>\n",
              "    <tr>\n",
              "      <th>10509</th>\n",
              "      <td>testcanparserule ( ) { org . cogroo . tools . ...</td>\n",
              "      <td>org . junit . assert . assertequals ( 1 , acce...</td>\n",
              "      <td>org. junit. assert. assertequals ( 1, access. ...</td>\n",
              "      <td>False</td>\n",
              "    </tr>\n",
              "  </tbody>\n",
              "</table>\n",
              "</div>"
            ],
            "text/plain": [
              "                                                   Input  ... IS_Perfect\n",
              "0      testgetlibrariesdoesdeduplication ( ) { when (...  ...      False\n",
              "10501  testclosewithoutwritinganything ( ) { com . go...  ...      False\n",
              "10502  testjavaversionloginfoandoutput ( ) { org . ze...  ...      False\n",
              "10503  checktime10 ( ) { com . alibaba . fastjson . p...  ...      False\n",
              "10509  testcanparserule ( ) { org . cogroo . tools . ...  ...      False\n",
              "\n",
              "[5 rows x 4 columns]"
            ]
          },
          "metadata": {
            "tags": []
          },
          "execution_count": 43
        }
      ]
    },
    {
      "cell_type": "code",
      "metadata": {
        "colab": {
          "base_uri": "https://localhost:8080/",
          "height": 202
        },
        "id": "TxP9o4m-Bd8f",
        "outputId": "0d1e8ff1-7ef1-4e96-8fd1-477efb8a4fbf"
      },
      "source": [
        "trn_bfmed_df, tst_bfmed_df = get_bfmed_dfs(); tst_bfmed_df.head()"
      ],
      "execution_count": null,
      "outputs": [
        {
          "output_type": "execute_result",
          "data": {
            "text/html": [
              "<div>\n",
              "<style scoped>\n",
              "    .dataframe tbody tr th:only-of-type {\n",
              "        vertical-align: middle;\n",
              "    }\n",
              "\n",
              "    .dataframe tbody tr th {\n",
              "        vertical-align: top;\n",
              "    }\n",
              "\n",
              "    .dataframe thead th {\n",
              "        text-align: right;\n",
              "    }\n",
              "</style>\n",
              "<table border=\"1\" class=\"dataframe\">\n",
              "  <thead>\n",
              "    <tr style=\"text-align: right;\">\n",
              "      <th></th>\n",
              "      <th>Input</th>\n",
              "      <th>Groundtruth</th>\n",
              "      <th>Output</th>\n",
              "      <th>IS_Perfect</th>\n",
              "    </tr>\n",
              "  </thead>\n",
              "  <tbody>\n",
              "    <tr>\n",
              "      <th>0</th>\n",
              "      <td>public void method_1 ( ) { for ( int i = ( ( v...</td>\n",
              "      <td>public void method_1 ( ) { for ( int i = ( ( v...</td>\n",
              "      <td>public void method_1 ( ) { for ( int i = ( ( v...</td>\n",
              "      <td>False</td>\n",
              "    </tr>\n",
              "    <tr>\n",
              "      <th>4319</th>\n",
              "      <td>public void method_1 ( android.view.view var_1...</td>\n",
              "      <td>public void method_1 ( android.view.view var_1...</td>\n",
              "      <td>public void method_1 ( android.view.view var_1...</td>\n",
              "      <td>False</td>\n",
              "    </tr>\n",
              "    <tr>\n",
              "      <th>4318</th>\n",
              "      <td>public type_1 method_1 ( int var_1 ) { if ( ! ...</td>\n",
              "      <td>public type_1 method_1 ( int var_1 ) { if ( ! ...</td>\n",
              "      <td>public type_1 method_1 ( int var_1 ) { if (! (...</td>\n",
              "      <td>False</td>\n",
              "    </tr>\n",
              "    <tr>\n",
              "      <th>4317</th>\n",
              "      <td>public void method_1 ( ) { if ( ( ( var_1 ) ==...</td>\n",
              "      <td>public void method_1 ( ) { if ( ( ( var_1 ) ==...</td>\n",
              "      <td>public void method_1 ( ) { if ( ( ( var_1 ) ==...</td>\n",
              "      <td>False</td>\n",
              "    </tr>\n",
              "    <tr>\n",
              "      <th>4316</th>\n",
              "      <td>public void method_1 ( ) { java.util.iterator ...</td>\n",
              "      <td>public void method_1 ( ) { java.util.iterator ...</td>\n",
              "      <td>public void method_1 ( ) { java.util.iterator ...</td>\n",
              "      <td>False</td>\n",
              "    </tr>\n",
              "  </tbody>\n",
              "</table>\n",
              "</div>"
            ],
            "text/plain": [
              "                                                  Input  ... IS_Perfect\n",
              "0     public void method_1 ( ) { for ( int i = ( ( v...  ...      False\n",
              "4319  public void method_1 ( android.view.view var_1...  ...      False\n",
              "4318  public type_1 method_1 ( int var_1 ) { if ( ! ...  ...      False\n",
              "4317  public void method_1 ( ) { if ( ( ( var_1 ) ==...  ...      False\n",
              "4316  public void method_1 ( ) { java.util.iterator ...  ...      False\n",
              "\n",
              "[5 rows x 4 columns]"
            ]
          },
          "metadata": {
            "tags": []
          },
          "execution_count": 36
        }
      ]
    },
    {
      "cell_type": "code",
      "metadata": {
        "colab": {
          "base_uri": "https://localhost:8080/",
          "height": 202
        },
        "id": "A8lTOGq-A9L4",
        "outputId": "36f88345-bf19-47fb-d1a7-2e944579cdc7"
      },
      "source": [
        "trn_codesum_df, tst_codesum_df = get_codesum_dfs(); tst_codesum_df.head()"
      ],
      "execution_count": null,
      "outputs": [
        {
          "output_type": "execute_result",
          "data": {
            "text/html": [
              "<div>\n",
              "<style scoped>\n",
              "    .dataframe tbody tr th:only-of-type {\n",
              "        vertical-align: middle;\n",
              "    }\n",
              "\n",
              "    .dataframe tbody tr th {\n",
              "        vertical-align: top;\n",
              "    }\n",
              "\n",
              "    .dataframe thead th {\n",
              "        text-align: right;\n",
              "    }\n",
              "</style>\n",
              "<table border=\"1\" class=\"dataframe\">\n",
              "  <thead>\n",
              "    <tr style=\"text-align: right;\">\n",
              "      <th></th>\n",
              "      <th>Input</th>\n",
              "      <th>Groundtruth</th>\n",
              "      <th>Output</th>\n",
              "      <th>IS_Perfect</th>\n",
              "      <th>BLEU</th>\n",
              "      <th>ROUGE-R</th>\n",
              "      <th>ROUGE-P</th>\n",
              "      <th>ROUGE-F</th>\n",
              "    </tr>\n",
              "  </thead>\n",
              "  <tbody>\n",
              "    <tr>\n",
              "      <th>78023</th>\n",
              "      <td>public object adapter get object adapter retur...</td>\n",
              "      <td>lazily looks up</td>\n",
              "      <td>returns the adapter that this object is associ...</td>\n",
              "      <td>False</td>\n",
              "      <td>0.0</td>\n",
              "      <td>0.0</td>\n",
              "      <td>0.0</td>\n",
              "      <td>0.000001</td>\n",
              "    </tr>\n",
              "    <tr>\n",
              "      <th>78025</th>\n",
              "      <td>public object specification get type of specif...</td>\n",
              "      <td>overridable for submodels eg</td>\n",
              "      <td>returns the type of specification from the giv...</td>\n",
              "      <td>False</td>\n",
              "      <td>0.0</td>\n",
              "      <td>0.0</td>\n",
              "      <td>0.0</td>\n",
              "      <td>0.000001</td>\n",
              "    </tr>\n",
              "    <tr>\n",
              "      <th>78022</th>\n",
              "      <td>public object specification get specification ...</td>\n",
              "      <td>lazy loaded from</td>\n",
              "      <td>return the specification</td>\n",
              "      <td>False</td>\n",
              "      <td>0.0</td>\n",
              "      <td>0.0</td>\n",
              "      <td>0.0</td>\n",
              "      <td>0.000001</td>\n",
              "    </tr>\n",
              "    <tr>\n",
              "      <th>45311</th>\n",
              "      <td>public boolean inform return true</td>\n",
              "      <td>request if this event is an internal or extern...</td>\n",
              "      <td>inform the user of the change</td>\n",
              "      <td>False</td>\n",
              "      <td>0.0</td>\n",
              "      <td>0.0</td>\n",
              "      <td>0.0</td>\n",
              "      <td>0.000001</td>\n",
              "    </tr>\n",
              "    <tr>\n",
              "      <th>45316</th>\n",
              "      <td>public v put else v value return condition map...</td>\n",
              "      <td>n this map</td>\n",
              "      <td>store the value for the if condition</td>\n",
              "      <td>False</td>\n",
              "      <td>0.0</td>\n",
              "      <td>0.0</td>\n",
              "      <td>0.0</td>\n",
              "      <td>0.000001</td>\n",
              "    </tr>\n",
              "  </tbody>\n",
              "</table>\n",
              "</div>"
            ],
            "text/plain": [
              "                                                   Input  ...   ROUGE-F\n",
              "78023  public object adapter get object adapter retur...  ...  0.000001\n",
              "78025  public object specification get type of specif...  ...  0.000001\n",
              "78022  public object specification get specification ...  ...  0.000001\n",
              "45311                  public boolean inform return true  ...  0.000001\n",
              "45316  public v put else v value return condition map...  ...  0.000001\n",
              "\n",
              "[5 rows x 8 columns]"
            ]
          },
          "metadata": {
            "tags": []
          },
          "execution_count": 33
        }
      ]
    },
    {
      "cell_type": "code",
      "metadata": {
        "id": "mDeMeuYX_-My"
      },
      "source": [
        "trn_muts_df, tst_muts_df = get_muts_dfs()"
      ],
      "execution_count": null,
      "outputs": []
    },
    {
      "cell_type": "code",
      "metadata": {
        "colab": {
          "base_uri": "https://localhost:8080/",
          "height": 285
        },
        "id": "xmbbvtIiAGYd",
        "outputId": "39d0d10a-373c-418a-c95d-32762f1341d4"
      },
      "source": [
        "trn_muts_df.head()"
      ],
      "execution_count": null,
      "outputs": [
        {
          "output_type": "execute_result",
          "data": {
            "text/html": [
              "<div>\n",
              "<style scoped>\n",
              "    .dataframe tbody tr th:only-of-type {\n",
              "        vertical-align: middle;\n",
              "    }\n",
              "\n",
              "    .dataframe tbody tr th {\n",
              "        vertical-align: top;\n",
              "    }\n",
              "\n",
              "    .dataframe thead th {\n",
              "        text-align: right;\n",
              "    }\n",
              "</style>\n",
              "<table border=\"1\" class=\"dataframe\">\n",
              "  <thead>\n",
              "    <tr style=\"text-align: right;\">\n",
              "      <th></th>\n",
              "      <th>target</th>\n",
              "    </tr>\n",
              "    <tr>\n",
              "      <th>input</th>\n",
              "      <th></th>\n",
              "    </tr>\n",
              "  </thead>\n",
              "  <tbody>\n",
              "    <tr>\n",
              "      <th>private void not ( short VAR_1 ) { short VAR_2 = VAR_3 [ VAR_1 ] ; this . VAR_3 [ VAR_1 ] = ( ( short ) ( ~ VAR_2 ) ) ; }</th>\n",
              "      <td>private void not ( short VAR_1 ) { this . VAR_...</td>\n",
              "    </tr>\n",
              "    <tr>\n",
              "      <th>protected java.util.List &lt; java.lang.String &gt; METHOD_1 ( ) { return java.util.Arrays.asList ( VAR_1 , VAR_2 ) ; }</th>\n",
              "      <td>protected java.util.List &lt; java.lang.String &gt; ...</td>\n",
              "    </tr>\n",
              "    <tr>\n",
              "      <th>public java.lang.Integer METHOD_1 ( TYPE_1 VAR_1 ) { VAR_2 . METHOD_2 ( STRING_1 ) ; VAR_2 . METHOD_2 ( ( STRING_2 + ( id ) ) ) ; return super . METHOD_1 ( VAR_1 ) ; }</th>\n",
              "      <td>public java.lang.Integer METHOD_1 ( TYPE_1 VAR...</td>\n",
              "    </tr>\n",
              "    <tr>\n",
              "      <th>public static TYPE_1 METHOD_1 ( ) { TYPE_1 VAR_1 = new TYPE_1 ( STRING_1 ) ; VAR_1 . METHOD_2 ( TYPE_2 . METHOD_3 ( STRING_2 ) ) ; return VAR_1 ; }</th>\n",
              "      <td>public static TYPE_1 METHOD_1 ( ) { TYPE_1 VAR...</td>\n",
              "    </tr>\n",
              "    <tr>\n",
              "      <th>public boolean METHOD_1 ( ) { if ( ( ( ( VAR_1 ) &gt;= 0 ) &amp;&amp; ( ( VAR_2 ) &gt;= 0 ) ) &amp;&amp; ( VAR_3 ) ) return true ; return false ; }</th>\n",
              "      <td>public boolean METHOD_1 ( ) { if ( ( ( ( VAR_1...</td>\n",
              "    </tr>\n",
              "  </tbody>\n",
              "</table>\n",
              "</div>"
            ],
            "text/plain": [
              "                                                                                               target\n",
              "input                                                                                                \n",
              "private void not ( short VAR_1 ) { short VAR_2 ...  private void not ( short VAR_1 ) { this . VAR_...\n",
              "protected java.util.List < java.lang.String > M...  protected java.util.List < java.lang.String > ...\n",
              "public java.lang.Integer METHOD_1 ( TYPE_1 VAR_...  public java.lang.Integer METHOD_1 ( TYPE_1 VAR...\n",
              "public static TYPE_1 METHOD_1 ( ) { TYPE_1 VAR_...  public static TYPE_1 METHOD_1 ( ) { TYPE_1 VAR...\n",
              "public boolean METHOD_1 ( ) { if ( ( ( ( VAR_1 ...  public boolean METHOD_1 ( ) { if ( ( ( ( VAR_1..."
            ]
          },
          "metadata": {
            "tags": []
          },
          "execution_count": 29
        }
      ]
    },
    {
      "cell_type": "code",
      "metadata": {
        "colab": {
          "base_uri": "https://localhost:8080/",
          "height": 202
        },
        "id": "kfvsHxCBAID1",
        "outputId": "74c5060b-255d-443d-e084-d01ea91b2c47"
      },
      "source": [
        "tst_muts_df.head()"
      ],
      "execution_count": null,
      "outputs": [
        {
          "output_type": "execute_result",
          "data": {
            "text/html": [
              "<div>\n",
              "<style scoped>\n",
              "    .dataframe tbody tr th:only-of-type {\n",
              "        vertical-align: middle;\n",
              "    }\n",
              "\n",
              "    .dataframe tbody tr th {\n",
              "        vertical-align: top;\n",
              "    }\n",
              "\n",
              "    .dataframe thead th {\n",
              "        text-align: right;\n",
              "    }\n",
              "</style>\n",
              "<table border=\"1\" class=\"dataframe\">\n",
              "  <thead>\n",
              "    <tr style=\"text-align: right;\">\n",
              "      <th></th>\n",
              "      <th>Input</th>\n",
              "      <th>Groundtruth</th>\n",
              "      <th>Output</th>\n",
              "      <th>IS_Perfect</th>\n",
              "      <th>BLEU</th>\n",
              "    </tr>\n",
              "  </thead>\n",
              "  <tbody>\n",
              "    <tr>\n",
              "      <th>2947</th>\n",
              "      <td>public boolean update ( ) { boolean var_1 = fa...</td>\n",
              "      <td>public boolean update ( ) { boolean var_1 = fa...</td>\n",
              "      <td>public boolean update ( ) { return false ; }</td>\n",
              "      <td>False</td>\n",
              "      <td>0.029103</td>\n",
              "    </tr>\n",
              "    <tr>\n",
              "      <th>7456</th>\n",
              "      <td>public java.util.date method_1 ( ) { java.util...</td>\n",
              "      <td>public java.util.date method_1 ( ) { java.util...</td>\n",
              "      <td>public java.util.date method_1 ( ) { return da...</td>\n",
              "      <td>False</td>\n",
              "      <td>0.065435</td>\n",
              "    </tr>\n",
              "    <tr>\n",
              "      <th>2026</th>\n",
              "      <td>public void method_1 ( ) { type_1 var_1 = ( ( ...</td>\n",
              "      <td>public void method_1 ( ) { type_1 var_1 = ( ( ...</td>\n",
              "      <td>public void method_1 ( ) { method_3 ( ) ; }</td>\n",
              "      <td>False</td>\n",
              "      <td>0.068947</td>\n",
              "    </tr>\n",
              "    <tr>\n",
              "      <th>6654</th>\n",
              "      <td>public type_1 [ ] method_1 ( java.lang.string ...</td>\n",
              "      <td>public void method_1 ( ) { }</td>\n",
              "      <td>public type_1 [ ] method_1 ( java.lang.string ...</td>\n",
              "      <td>False</td>\n",
              "      <td>0.096321</td>\n",
              "    </tr>\n",
              "    <tr>\n",
              "      <th>2250</th>\n",
              "      <td>public void method_1 ( ) throws java.lang.exce...</td>\n",
              "      <td>public void method_1 ( ) { }</td>\n",
              "      <td>public void method_1 ( ) throws java.lang.exce...</td>\n",
              "      <td>False</td>\n",
              "      <td>0.109680</td>\n",
              "    </tr>\n",
              "  </tbody>\n",
              "</table>\n",
              "</div>"
            ],
            "text/plain": [
              "                                                  Input  ...      BLEU\n",
              "2947  public boolean update ( ) { boolean var_1 = fa...  ...  0.029103\n",
              "7456  public java.util.date method_1 ( ) { java.util...  ...  0.065435\n",
              "2026  public void method_1 ( ) { type_1 var_1 = ( ( ...  ...  0.068947\n",
              "6654  public type_1 [ ] method_1 ( java.lang.string ...  ...  0.096321\n",
              "2250  public void method_1 ( ) throws java.lang.exce...  ...  0.109680\n",
              "\n",
              "[5 rows x 5 columns]"
            ]
          },
          "metadata": {
            "tags": []
          },
          "execution_count": 30
        }
      ]
    },
    {
      "cell_type": "code",
      "metadata": {
        "id": "NSu976p1yLCe"
      },
      "source": [
        "import sentencepiece as spm\n",
        "s = spm.SentencePieceProcessor(model_file='dl4se_vocab.model')"
      ],
      "execution_count": null,
      "outputs": []
    },
    {
      "cell_type": "code",
      "metadata": {
        "colab": {
          "base_uri": "https://localhost:8080/"
        },
        "id": "csCFg0xyyklG",
        "outputId": "ae8d8456-0fa4-40cb-dbb5-cb4415fe8416"
      },
      "source": [
        "s.encode(\"public static void main\", out_type=str)"
      ],
      "execution_count": null,
      "outputs": [
        {
          "output_type": "execute_result",
          "data": {
            "text/plain": [
              "['▁public', '▁static', '▁void', '▁main']"
            ]
          },
          "metadata": {
            "tags": []
          },
          "execution_count": 6
        }
      ]
    },
    {
      "cell_type": "code",
      "metadata": {
        "id": "gO5dFR7CynGy",
        "colab": {
          "base_uri": "https://localhost:8080/",
          "height": 202
        },
        "outputId": "2436c27d-555c-42d7-dc9f-4f90aa474744"
      },
      "source": [
        "import pandas as pd\n",
        "\n",
        "agab_df = pd.read_csv(\"DataSnooping_Analysis_Data/AGabs.csv\", index_col=0); agab_df.head()"
      ],
      "execution_count": null,
      "outputs": [
        {
          "output_type": "execute_result",
          "data": {
            "text/html": [
              "<div>\n",
              "<style scoped>\n",
              "    .dataframe tbody tr th:only-of-type {\n",
              "        vertical-align: middle;\n",
              "    }\n",
              "\n",
              "    .dataframe tbody tr th {\n",
              "        vertical-align: top;\n",
              "    }\n",
              "\n",
              "    .dataframe thead th {\n",
              "        text-align: right;\n",
              "    }\n",
              "</style>\n",
              "<table border=\"1\" class=\"dataframe\">\n",
              "  <thead>\n",
              "    <tr style=\"text-align: right;\">\n",
              "      <th></th>\n",
              "      <th>Input</th>\n",
              "      <th>Groundtruth</th>\n",
              "      <th>Output</th>\n",
              "      <th>IS_Perfect</th>\n",
              "    </tr>\n",
              "  </thead>\n",
              "  <tbody>\n",
              "    <tr>\n",
              "      <th>0</th>\n",
              "      <td>method_0 ( ) { org . apache . commons . ident_...</td>\n",
              "      <td>org . junit . assert . assertequals ( expected...</td>\n",
              "      <td>org. junit. assert. assertequals ( expected, e...</td>\n",
              "      <td>True</td>\n",
              "    </tr>\n",
              "    <tr>\n",
              "      <th>1</th>\n",
              "      <td>method_0 ( ) { org . kaazing . ident_0 . filte...</td>\n",
              "      <td>org . junit . assert . assertequals ( expected...</td>\n",
              "      <td>org. junit. assert. assertequals ( expected, b...</td>\n",
              "      <td>True</td>\n",
              "    </tr>\n",
              "    <tr>\n",
              "      <th>2</th>\n",
              "      <td>method_0 ( ) { org . kaazing . ident_0 . trans...</td>\n",
              "      <td>org . junit . assert . assertequals ( 3 , iden...</td>\n",
              "      <td>org. junit. assert. assertequals ( 1, ident_8....</td>\n",
              "      <td>False</td>\n",
              "    </tr>\n",
              "    <tr>\n",
              "      <th>3</th>\n",
              "      <td>method_0 ( ) { org . apache . commons . ident_...</td>\n",
              "      <td>org . junit . assert . assertequals ( expected...</td>\n",
              "      <td>org. junit. assert. assertequals ( expected, e...</td>\n",
              "      <td>True</td>\n",
              "    </tr>\n",
              "    <tr>\n",
              "      <th>4</th>\n",
              "      <td>method_0 ( ) { final org . apache . ident_0 . ...</td>\n",
              "      <td>org . junit . assert . assertfalse ( ident_6 ....</td>\n",
              "      <td>org. junit. assert. assertequals ( 1, ident_6....</td>\n",
              "      <td>False</td>\n",
              "    </tr>\n",
              "  </tbody>\n",
              "</table>\n",
              "</div>"
            ],
            "text/plain": [
              "                                               Input  ... IS_Perfect\n",
              "0  method_0 ( ) { org . apache . commons . ident_...  ...       True\n",
              "1  method_0 ( ) { org . kaazing . ident_0 . filte...  ...       True\n",
              "2  method_0 ( ) { org . kaazing . ident_0 . trans...  ...      False\n",
              "3  method_0 ( ) { org . apache . commons . ident_...  ...       True\n",
              "4  method_0 ( ) { final org . apache . ident_0 . ...  ...      False\n",
              "\n",
              "[5 rows x 4 columns]"
            ]
          },
          "metadata": {
            "tags": []
          },
          "execution_count": 5
        }
      ]
    },
    {
      "cell_type": "code",
      "metadata": {
        "colab": {
          "base_uri": "https://localhost:8080/",
          "height": 202
        },
        "id": "DwQGAfJU3Nk6",
        "outputId": "e6fece34-9bac-453a-e1ef-1eb91772609b"
      },
      "source": [
        "agraw_df = pd.read_csv(\"DataSnooping_Analysis_Data/AGraw.csv\", index_col=0); agraw_df.head()"
      ],
      "execution_count": null,
      "outputs": [
        {
          "output_type": "execute_result",
          "data": {
            "text/html": [
              "<div>\n",
              "<style scoped>\n",
              "    .dataframe tbody tr th:only-of-type {\n",
              "        vertical-align: middle;\n",
              "    }\n",
              "\n",
              "    .dataframe tbody tr th {\n",
              "        vertical-align: top;\n",
              "    }\n",
              "\n",
              "    .dataframe thead th {\n",
              "        text-align: right;\n",
              "    }\n",
              "</style>\n",
              "<table border=\"1\" class=\"dataframe\">\n",
              "  <thead>\n",
              "    <tr style=\"text-align: right;\">\n",
              "      <th></th>\n",
              "      <th>Input</th>\n",
              "      <th>Groundtruth</th>\n",
              "      <th>Output</th>\n",
              "      <th>IS_Perfect</th>\n",
              "    </tr>\n",
              "  </thead>\n",
              "  <tbody>\n",
              "    <tr>\n",
              "      <th>0</th>\n",
              "      <td>testgetlibrariesdoesdeduplication ( ) { when (...</td>\n",
              "      <td>org . junit . assert . assertarrayequals ( new...</td>\n",
              "      <td>org. junit. assert. assertequals ( 0, categori...</td>\n",
              "      <td>False</td>\n",
              "    </tr>\n",
              "    <tr>\n",
              "      <th>1</th>\n",
              "      <td>getuserswaitingnotificationnowatchexpectemptyl...</td>\n",
              "      <td>org . junit . assert . assertequals ( 0 , user...</td>\n",
              "      <td>org. junit. assert. assertequals ( 0, users. s...</td>\n",
              "      <td>True</td>\n",
              "    </tr>\n",
              "    <tr>\n",
              "      <th>2</th>\n",
              "      <td>testcreatornull ( ) { de . sstoehr . harreader...</td>\n",
              "      <td>org . junit . assert . assertnotnull ( log . g...</td>\n",
              "      <td>org. junit. assert. assertnotnull ( log. getcr...</td>\n",
              "      <td>True</td>\n",
              "    </tr>\n",
              "    <tr>\n",
              "      <th>3</th>\n",
              "      <td>shouldcorrectlycalculatemutationscoveragewhena...</td>\n",
              "      <td>org . junit . assert . assertequals ( 100 , th...</td>\n",
              "      <td>org. junit. assert. assertequals ( 1, this. te...</td>\n",
              "      <td>False</td>\n",
              "    </tr>\n",
              "    <tr>\n",
              "      <th>4</th>\n",
              "      <td>testbadissuer ( ) { java . security . privatek...</td>\n",
              "      <td>org . junit . assert . asserttrue ( ( ex insta...</td>\n",
              "      <td>org. junit. assert. assertnotnull ( ex )</td>\n",
              "      <td>False</td>\n",
              "    </tr>\n",
              "  </tbody>\n",
              "</table>\n",
              "</div>"
            ],
            "text/plain": [
              "                                               Input  ... IS_Perfect\n",
              "0  testgetlibrariesdoesdeduplication ( ) { when (...  ...      False\n",
              "1  getuserswaitingnotificationnowatchexpectemptyl...  ...       True\n",
              "2  testcreatornull ( ) { de . sstoehr . harreader...  ...       True\n",
              "3  shouldcorrectlycalculatemutationscoveragewhena...  ...      False\n",
              "4  testbadissuer ( ) { java . security . privatek...  ...      False\n",
              "\n",
              "[5 rows x 4 columns]"
            ]
          },
          "metadata": {
            "tags": []
          },
          "execution_count": 6
        }
      ]
    },
    {
      "cell_type": "code",
      "metadata": {
        "colab": {
          "base_uri": "https://localhost:8080/",
          "height": 202
        },
        "id": "qWZuhOs33xur",
        "outputId": "2dac549a-c446-4b75-9dc7-58a7d52159d1"
      },
      "source": [
        "bfsm_df = pd.read_csv(\"DataSnooping_Analysis_Data/BFsmall.csv\", index_col=0); bfsm_df.head()"
      ],
      "execution_count": null,
      "outputs": [
        {
          "output_type": "execute_result",
          "data": {
            "text/html": [
              "<div>\n",
              "<style scoped>\n",
              "    .dataframe tbody tr th:only-of-type {\n",
              "        vertical-align: middle;\n",
              "    }\n",
              "\n",
              "    .dataframe tbody tr th {\n",
              "        vertical-align: top;\n",
              "    }\n",
              "\n",
              "    .dataframe thead th {\n",
              "        text-align: right;\n",
              "    }\n",
              "</style>\n",
              "<table border=\"1\" class=\"dataframe\">\n",
              "  <thead>\n",
              "    <tr style=\"text-align: right;\">\n",
              "      <th></th>\n",
              "      <th>Input</th>\n",
              "      <th>Groundtruth</th>\n",
              "      <th>Output</th>\n",
              "      <th>IS_Perfect</th>\n",
              "    </tr>\n",
              "  </thead>\n",
              "  <tbody>\n",
              "    <tr>\n",
              "      <th>0</th>\n",
              "      <td>private type_1 gettype ( type_2 var_1 ) { type...</td>\n",
              "      <td>private type_1 gettype ( type_2 var_1 ) { type...</td>\n",
              "      <td>private type_1 gettype ( type_2 var_1 ) { type...</td>\n",
              "      <td>False</td>\n",
              "    </tr>\n",
              "    <tr>\n",
              "      <th>1</th>\n",
              "      <td>public type_1 method_1 ( ) { type_1 output = v...</td>\n",
              "      <td>public type_1 method_1 ( ) { type_1 output = v...</td>\n",
              "      <td>public type_1 method_1 ( ) { type_1 output = v...</td>\n",
              "      <td>False</td>\n",
              "    </tr>\n",
              "    <tr>\n",
              "      <th>2</th>\n",
              "      <td>private void method_1 ( java.lang.class var_1 ...</td>\n",
              "      <td>public void method_1 ( java.lang.class var_1 )...</td>\n",
              "      <td>private void method_1 ( java.lang.class var_1 ...</td>\n",
              "      <td>False</td>\n",
              "    </tr>\n",
              "    <tr>\n",
              "      <th>3</th>\n",
              "      <td>public void method_1 ( ) { for ( type_1 var_1 ...</td>\n",
              "      <td>public void method_1 ( ) { method_3 ( ) ; if (...</td>\n",
              "      <td>public void method_1 ( ) { for ( type_1 var_1 ...</td>\n",
              "      <td>False</td>\n",
              "    </tr>\n",
              "    <tr>\n",
              "      <th>4</th>\n",
              "      <td>public void method_1 ( ) { type_1 . method_2 (...</td>\n",
              "      <td>private void method_1 ( ) { type_1 . method_2 ...</td>\n",
              "      <td>public void method_1 ( ) { }</td>\n",
              "      <td>False</td>\n",
              "    </tr>\n",
              "  </tbody>\n",
              "</table>\n",
              "</div>"
            ],
            "text/plain": [
              "                                               Input  ... IS_Perfect\n",
              "0  private type_1 gettype ( type_2 var_1 ) { type...  ...      False\n",
              "1  public type_1 method_1 ( ) { type_1 output = v...  ...      False\n",
              "2  private void method_1 ( java.lang.class var_1 ...  ...      False\n",
              "3  public void method_1 ( ) { for ( type_1 var_1 ...  ...      False\n",
              "4  public void method_1 ( ) { type_1 . method_2 (...  ...      False\n",
              "\n",
              "[5 rows x 4 columns]"
            ]
          },
          "metadata": {
            "tags": []
          },
          "execution_count": 7
        }
      ]
    },
    {
      "cell_type": "code",
      "metadata": {
        "colab": {
          "base_uri": "https://localhost:8080/",
          "height": 202
        },
        "id": "zD9Ff_sb34CI",
        "outputId": "5544cb73-a0a8-445e-ee54-b26ea7b57149"
      },
      "source": [
        "bfmed_df = pd.read_csv(\"DataSnooping_Analysis_Data/BFmedium.csv\", index_col=0); bfmed_df.head()"
      ],
      "execution_count": null,
      "outputs": [
        {
          "output_type": "execute_result",
          "data": {
            "text/html": [
              "<div>\n",
              "<style scoped>\n",
              "    .dataframe tbody tr th:only-of-type {\n",
              "        vertical-align: middle;\n",
              "    }\n",
              "\n",
              "    .dataframe tbody tr th {\n",
              "        vertical-align: top;\n",
              "    }\n",
              "\n",
              "    .dataframe thead th {\n",
              "        text-align: right;\n",
              "    }\n",
              "</style>\n",
              "<table border=\"1\" class=\"dataframe\">\n",
              "  <thead>\n",
              "    <tr style=\"text-align: right;\">\n",
              "      <th></th>\n",
              "      <th>Input</th>\n",
              "      <th>Groundtruth</th>\n",
              "      <th>Output</th>\n",
              "      <th>IS_Perfect</th>\n",
              "    </tr>\n",
              "  </thead>\n",
              "  <tbody>\n",
              "    <tr>\n",
              "      <th>0</th>\n",
              "      <td>public void method_1 ( ) { for ( int i = ( ( v...</td>\n",
              "      <td>public void method_1 ( ) { for ( int i = ( ( v...</td>\n",
              "      <td>public void method_1 ( ) { for ( int i = ( ( v...</td>\n",
              "      <td>False</td>\n",
              "    </tr>\n",
              "    <tr>\n",
              "      <th>1</th>\n",
              "      <td>public void method_1 ( type_1 var_1 ) { super ...</td>\n",
              "      <td>public void method_1 ( type_1 var_1 ) { super ...</td>\n",
              "      <td>public void method_1 ( type_1 var_1 ) { super....</td>\n",
              "      <td>False</td>\n",
              "    </tr>\n",
              "    <tr>\n",
              "      <th>2</th>\n",
              "      <td>private java.lang.string method_1 ( ) { int va...</td>\n",
              "      <td>private java.lang.string method_1 ( ) { int va...</td>\n",
              "      <td>private java.lang.string method_1 ( ) { int va...</td>\n",
              "      <td>False</td>\n",
              "    </tr>\n",
              "    <tr>\n",
              "      <th>3</th>\n",
              "      <td>public type_1 method_1 ( type_1 var_1 ) throws...</td>\n",
              "      <td>public type_1 method_1 ( type_1 var_1 ) throws...</td>\n",
              "      <td>public type_1 method_1 ( type_1 var_1 ) throws...</td>\n",
              "      <td>False</td>\n",
              "    </tr>\n",
              "    <tr>\n",
              "      <th>4</th>\n",
              "      <td>protected int method_1 ( int var_1 ) { var_2 ....</td>\n",
              "      <td>protected int method_1 ( int var_1 ) { var_3 =...</td>\n",
              "      <td>protected int method_1 ( int var_1 ) { var_2. ...</td>\n",
              "      <td>False</td>\n",
              "    </tr>\n",
              "  </tbody>\n",
              "</table>\n",
              "</div>"
            ],
            "text/plain": [
              "                                               Input  ... IS_Perfect\n",
              "0  public void method_1 ( ) { for ( int i = ( ( v...  ...      False\n",
              "1  public void method_1 ( type_1 var_1 ) { super ...  ...      False\n",
              "2  private java.lang.string method_1 ( ) { int va...  ...      False\n",
              "3  public type_1 method_1 ( type_1 var_1 ) throws...  ...      False\n",
              "4  protected int method_1 ( int var_1 ) { var_2 ....  ...      False\n",
              "\n",
              "[5 rows x 4 columns]"
            ]
          },
          "metadata": {
            "tags": []
          },
          "execution_count": 8
        }
      ]
    },
    {
      "cell_type": "code",
      "metadata": {
        "colab": {
          "base_uri": "https://localhost:8080/",
          "height": 271
        },
        "id": "I1ZwvKAM4DR8",
        "outputId": "4277a90b-7ca4-4154-980e-0a306752497f"
      },
      "source": [
        "codesum_df = pd.read_csv(\"DataSnooping_Analysis_Data/CodeSummarization.csv\", index_col=0); codesum_df.head()"
      ],
      "execution_count": null,
      "outputs": [
        {
          "output_type": "execute_result",
          "data": {
            "text/html": [
              "<div>\n",
              "<style scoped>\n",
              "    .dataframe tbody tr th:only-of-type {\n",
              "        vertical-align: middle;\n",
              "    }\n",
              "\n",
              "    .dataframe tbody tr th {\n",
              "        vertical-align: top;\n",
              "    }\n",
              "\n",
              "    .dataframe thead th {\n",
              "        text-align: right;\n",
              "    }\n",
              "</style>\n",
              "<table border=\"1\" class=\"dataframe\">\n",
              "  <thead>\n",
              "    <tr style=\"text-align: right;\">\n",
              "      <th></th>\n",
              "      <th>Input</th>\n",
              "      <th>Groundtruth</th>\n",
              "      <th>Output</th>\n",
              "      <th>IS_Perfect</th>\n",
              "      <th>BLEU</th>\n",
              "      <th>ROUGE-R</th>\n",
              "      <th>ROUGE-P</th>\n",
              "      <th>ROUGE-F</th>\n",
              "    </tr>\n",
              "  </thead>\n",
              "  <tbody>\n",
              "    <tr>\n",
              "      <th>0</th>\n",
              "      <td>public void call throws exception point cost p...</td>\n",
              "      <td>called by the thread executor when the thread ...</td>\n",
              "      <td>run the optimizer</td>\n",
              "      <td>False</td>\n",
              "      <td>0.039589</td>\n",
              "      <td>0.100000</td>\n",
              "      <td>0.100000</td>\n",
              "      <td>0.153847</td>\n",
              "    </tr>\n",
              "    <tr>\n",
              "      <th>1</th>\n",
              "      <td>public void initialize display display message...</td>\n",
              "      <td>it is initialized only when display and messag...</td>\n",
              "      <td>initializes the display</td>\n",
              "      <td>False</td>\n",
              "      <td>0.028367</td>\n",
              "      <td>0.090909</td>\n",
              "      <td>0.090909</td>\n",
              "      <td>0.142858</td>\n",
              "    </tr>\n",
              "    <tr>\n",
              "      <th>2</th>\n",
              "      <td>private void set columns width int sample len ...</td>\n",
              "      <td>sets the columns width based on an extimation ...</td>\n",
              "      <td>set the width of all columns in the table</td>\n",
              "      <td>False</td>\n",
              "      <td>0.163049</td>\n",
              "      <td>0.400000</td>\n",
              "      <td>0.400000</td>\n",
              "      <td>0.421054</td>\n",
              "    </tr>\n",
              "    <tr>\n",
              "      <th>3</th>\n",
              "      <td>private void recalculate column and row count ...</td>\n",
              "      <td>recalculates the column and row count consider...</td>\n",
              "      <td>recalculates column and row count</td>\n",
              "      <td>False</td>\n",
              "      <td>0.357338</td>\n",
              "      <td>0.555556</td>\n",
              "      <td>0.555556</td>\n",
              "      <td>0.714287</td>\n",
              "    </tr>\n",
              "    <tr>\n",
              "      <th>4</th>\n",
              "      <td>private void set rows input matrix info arr ma...</td>\n",
              "      <td>adds to the table the matrices definitions as ...</td>\n",
              "      <td>fills the table with the rows of the input matrix</td>\n",
              "      <td>False</td>\n",
              "      <td>0.182574</td>\n",
              "      <td>0.444444</td>\n",
              "      <td>0.444444</td>\n",
              "      <td>0.421054</td>\n",
              "    </tr>\n",
              "  </tbody>\n",
              "</table>\n",
              "</div>"
            ],
            "text/plain": [
              "                                               Input  ...   ROUGE-F\n",
              "0  public void call throws exception point cost p...  ...  0.153847\n",
              "1  public void initialize display display message...  ...  0.142858\n",
              "2  private void set columns width int sample len ...  ...  0.421054\n",
              "3  private void recalculate column and row count ...  ...  0.714287\n",
              "4  private void set rows input matrix info arr ma...  ...  0.421054\n",
              "\n",
              "[5 rows x 8 columns]"
            ]
          },
          "metadata": {
            "tags": []
          },
          "execution_count": 9
        }
      ]
    },
    {
      "cell_type": "code",
      "metadata": {
        "colab": {
          "base_uri": "https://localhost:8080/",
          "height": 202
        },
        "id": "EdZqJiNV4I7z",
        "outputId": "f05684e4-4871-4caf-dfed-fc4792a9abc4"
      },
      "source": [
        "muts_df = pd.read_csv(\"DataSnooping_Analysis_Data/Mutants.csv\", index_col=0); muts_df.head()"
      ],
      "execution_count": null,
      "outputs": [
        {
          "output_type": "execute_result",
          "data": {
            "text/html": [
              "<div>\n",
              "<style scoped>\n",
              "    .dataframe tbody tr th:only-of-type {\n",
              "        vertical-align: middle;\n",
              "    }\n",
              "\n",
              "    .dataframe tbody tr th {\n",
              "        vertical-align: top;\n",
              "    }\n",
              "\n",
              "    .dataframe thead th {\n",
              "        text-align: right;\n",
              "    }\n",
              "</style>\n",
              "<table border=\"1\" class=\"dataframe\">\n",
              "  <thead>\n",
              "    <tr style=\"text-align: right;\">\n",
              "      <th></th>\n",
              "      <th>Input</th>\n",
              "      <th>Groundtruth</th>\n",
              "      <th>Output</th>\n",
              "      <th>IS_Perfect</th>\n",
              "      <th>BLEU</th>\n",
              "    </tr>\n",
              "  </thead>\n",
              "  <tbody>\n",
              "    <tr>\n",
              "      <th>0</th>\n",
              "      <td>private static java.lang.string method_1 ( jav...</td>\n",
              "      <td>private static java.lang.string method_1 ( jav...</td>\n",
              "      <td>private static java.lang.string method_1 ( jav...</td>\n",
              "      <td>False</td>\n",
              "      <td>0.912382</td>\n",
              "    </tr>\n",
              "    <tr>\n",
              "      <th>1</th>\n",
              "      <td>public synchronized void add ( int index , jav...</td>\n",
              "      <td>public synchronized void add ( int index , jav...</td>\n",
              "      <td>public synchronized void add ( int index , jav...</td>\n",
              "      <td>True</td>\n",
              "      <td>1.000000</td>\n",
              "    </tr>\n",
              "    <tr>\n",
              "      <th>2</th>\n",
              "      <td>public void method_1 ( ) { type_1 . method_2 (...</td>\n",
              "      <td>public void method_1 ( ) { super . method_1 ( ...</td>\n",
              "      <td>public void method_1 ( ) { super . method_1 ( ...</td>\n",
              "      <td>True</td>\n",
              "      <td>1.000000</td>\n",
              "    </tr>\n",
              "    <tr>\n",
              "      <th>3</th>\n",
              "      <td>protected float method_1 ( float var_1 ) { ret...</td>\n",
              "      <td>protected float method_1 ( float var_1 ) { ret...</td>\n",
              "      <td>protected float method_1 ( float var_1 ) { ret...</td>\n",
              "      <td>False</td>\n",
              "      <td>0.967793</td>\n",
              "    </tr>\n",
              "    <tr>\n",
              "      <th>4</th>\n",
              "      <td>public static char [ ] method_1 ( java.lang.st...</td>\n",
              "      <td>public static char [ ] method_1 ( java.lang.st...</td>\n",
              "      <td>public static char [ ] method_1 ( java.lang.st...</td>\n",
              "      <td>False</td>\n",
              "      <td>0.938388</td>\n",
              "    </tr>\n",
              "  </tbody>\n",
              "</table>\n",
              "</div>"
            ],
            "text/plain": [
              "                                               Input  ...      BLEU\n",
              "0  private static java.lang.string method_1 ( jav...  ...  0.912382\n",
              "1  public synchronized void add ( int index , jav...  ...  1.000000\n",
              "2  public void method_1 ( ) { type_1 . method_2 (...  ...  1.000000\n",
              "3  protected float method_1 ( float var_1 ) { ret...  ...  0.967793\n",
              "4  public static char [ ] method_1 ( java.lang.st...  ...  0.938388\n",
              "\n",
              "[5 rows x 5 columns]"
            ]
          },
          "metadata": {
            "tags": []
          },
          "execution_count": 10
        }
      ]
    }
  ]
}